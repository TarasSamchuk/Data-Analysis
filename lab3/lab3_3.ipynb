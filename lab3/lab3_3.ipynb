{
  "nbformat": 4,
  "nbformat_minor": 0,
  "metadata": {
    "colab": {
      "provenance": []
    },
    "kernelspec": {
      "name": "python3",
      "display_name": "Python 3"
    },
    "language_info": {
      "name": "python"
    }
  },
  "cells": [
    {
      "cell_type": "code",
      "execution_count": 1,
      "metadata": {
        "colab": {
          "base_uri": "https://localhost:8080/"
        },
        "id": "Y_DR2sSlpooS",
        "outputId": "9f2ad2a2-bc6b-426d-b19e-4d299e463a47"
      },
      "outputs": [
        {
          "output_type": "stream",
          "name": "stderr",
          "text": [
            "[nltk_data] Downloading package stopwords to /root/nltk_data...\n",
            "[nltk_data]   Package stopwords is already up-to-date!\n",
            "[nltk_data] Downloading package punkt to /root/nltk_data...\n",
            "[nltk_data]   Package punkt is already up-to-date!\n"
          ]
        },
        {
          "output_type": "execute_result",
          "data": {
            "text/plain": [
              "True"
            ]
          },
          "metadata": {},
          "execution_count": 1
        }
      ],
      "source": [
        "from nltk.tokenize import word_tokenize\n",
        "from nltk.corpus import stopwords\n",
        "from nltk.stem import PorterStemmer, WordNetLemmatizer\n",
        "import re\n",
        "from wordcloud import WordCloud\n",
        "import matplotlib.pyplot as plt\n",
        "import pandas as pd\n",
        "import numpy as np\n",
        "import tensorflow as tf\n",
        "from tensorflow import keras\n",
        "from tensorflow.keras import layers\n",
        "\n",
        "import pandas as pd\n",
        "import nltk\n",
        "nltk.download('stopwords')\n",
        "nltk.download('punkt')\n"
      ]
    },
    {
      "cell_type": "code",
      "source": [
        "data_train = pd.read_csv(\"train.csv\")\n",
        "data_test = pd.read_csv(\"test.csv\")\n"
      ],
      "metadata": {
        "id": "L8EJGkiTsMzM"
      },
      "execution_count": 2,
      "outputs": []
    },
    {
      "cell_type": "code",
      "source": [
        "def clear_text(text):\n",
        "    text = str(text)\n",
        "    text = text.lower()\n",
        "    text = re.sub(r'[^ a-z]', '', text)\n",
        "    while text.find('  ') != -1:\n",
        "        text = text.replace('  ', ' ')\n",
        "    return text"
      ],
      "metadata": {
        "id": "8J9EeGCUsM1e"
      },
      "execution_count": 3,
      "outputs": []
    },
    {
      "cell_type": "code",
      "source": [
        "data_train['clean_text']= data_train['Text'].apply(lambda x:clear_text(x))\n",
        "data_test['clean_text']= data_test['Text'].apply(lambda x:clear_text(x))"
      ],
      "metadata": {
        "id": "kKkJDjoxsM3p"
      },
      "execution_count": 4,
      "outputs": []
    },
    {
      "cell_type": "code",
      "source": [
        "data_train['clean_text'] = data_train['clean_text'].apply(lambda x:word_tokenize(x))\n",
        "data_test['clean_text'] = data_test['clean_text'].apply(lambda x:word_tokenize(x))"
      ],
      "metadata": {
        "id": "ENS8iEWmvzdu"
      },
      "execution_count": 5,
      "outputs": []
    },
    {
      "cell_type": "code",
      "source": [
        "def remove_stop_words(text):\n",
        "    stop_words = stopwords.words('english')\n",
        "    filtered_text = []\n",
        "    for w in text:\n",
        "        if w not in stop_words:\n",
        "            filtered_text.append(w)\n",
        "    return filtered_text"
      ],
      "metadata": {
        "id": "cmbZx_Tavzf5"
      },
      "execution_count": 6,
      "outputs": []
    },
    {
      "cell_type": "code",
      "source": [
        "data_train['clean_text'] = data_train['clean_text'].apply(lambda x:remove_stop_words(x))\n",
        "data_test['clean_text'] = data_test['clean_text'].apply(lambda x:remove_stop_words(x))"
      ],
      "metadata": {
        "id": "wh7JLa96vzh9"
      },
      "execution_count": 7,
      "outputs": []
    },
    {
      "cell_type": "code",
      "source": [
        "def to_text(data):\n",
        "    text = []\n",
        "    for i in data:\n",
        "        for word in i:\n",
        "            text.append(word)\n",
        "    return text\n",
        "\n",
        "text = to_text(data_train['clean_text'])\n",
        "text += to_text(data_test['clean_text'])\n",
        "text.sort()\n",
        "dictionary = []\n",
        "for i in text:\n",
        "    if i not in dictionary:\n",
        "        dictionary.append(i)"
      ],
      "metadata": {
        "id": "PEGdGxHKvzmS"
      },
      "execution_count": 9,
      "outputs": []
    },
    {
      "cell_type": "code",
      "source": [
        "def convert_to_numbers(text):\n",
        "    res = []\n",
        "    for word in text:\n",
        "        res.append(dictionary.index(word))\n",
        "    return res\n",
        "\n",
        "def convert_to_text(numbers):\n",
        "    res = []\n",
        "    for num in numbers:\n",
        "        res.append(dictionary[num])\n",
        "    return res"
      ],
      "metadata": {
        "id": "sn6MjX-3vzoZ"
      },
      "execution_count": 10,
      "outputs": []
    },
    {
      "cell_type": "code",
      "source": [
        "data_train['numbers'] = data_train['clean_text'].apply(lambda x:convert_to_numbers(x))\n",
        "data_test['numbers'] = data_test['clean_text'].apply(lambda x:convert_to_numbers(x))"
      ],
      "metadata": {
        "id": "bcXLVtSbvzqT"
      },
      "execution_count": 11,
      "outputs": []
    },
    {
      "cell_type": "code",
      "source": [
        "#good: happy, love, surprise\n",
        "#bad: sadness, anger, fear\n",
        "\n",
        "def t_or_f(emotion):\n",
        "    if emotion == 'happy' or emotion == 'love' or emotion == 'surprise':\n",
        "        return 1        \n",
        "    else:        #elif emotioin == 'sadness' or 'anger' or 'fear': return 0\n",
        "        return 0\n",
        "    \n",
        "data_train['Emotion_in_digit'] = data_train['Emotion'].apply(lambda x:t_or_f(x))\n",
        "data_test['Emotion_in_digit'] = data_test['Emotion'].apply(lambda x:t_or_f(x))\n",
        "\n",
        "# data_train[['Emotion','Emotion_in_digit']]"
      ],
      "metadata": {
        "id": "xRNMGclUvzsh"
      },
      "execution_count": 12,
      "outputs": []
    },
    {
      "cell_type": "code",
      "source": [
        "data_train = data_train[['Emotion_in_digit', 'numbers']]\n",
        "data_test = data_test[['Emotion_in_digit', 'numbers']]"
      ],
      "metadata": {
        "id": "E1OleazKvzur"
      },
      "execution_count": 13,
      "outputs": []
    },
    {
      "cell_type": "code",
      "source": [
        "def vectorize_sequences(sequences, dimension=30000):\n",
        "    results = np.zeros((len(sequences), dimension))\n",
        "    for i, sequence in enumerate(sequences):\n",
        "        for j in sequence:\n",
        "            results[i, j] = 1.\n",
        "    return results"
      ],
      "metadata": {
        "id": "BvDkG4DQvzww"
      },
      "execution_count": 14,
      "outputs": []
    },
    {
      "cell_type": "code",
      "source": [
        "x_train = vectorize_sequences(data_train['numbers'])\n",
        "x_test = vectorize_sequences(data_test['numbers'])"
      ],
      "metadata": {
        "id": "UF4HcDnkvzy1"
      },
      "execution_count": 15,
      "outputs": []
    },
    {
      "cell_type": "code",
      "source": [
        "y_train = np.asarray(data_train['Emotion_in_digit']).astype(\"float32\")\n",
        "y_test = np.asarray(data_test['Emotion_in_digit']).astype(\"float32\")"
      ],
      "metadata": {
        "id": "9EJRSqGKwCTA"
      },
      "execution_count": 16,
      "outputs": []
    },
    {
      "cell_type": "code",
      "source": [
        "max_seq_len = 80\n",
        "max_features = 30000"
      ],
      "metadata": {
        "id": "MYF6iX53wCVS"
      },
      "execution_count": 17,
      "outputs": []
    },
    {
      "cell_type": "code",
      "source": [
        "x_train = keras.preprocessing.sequence.pad_sequences(x_train, maxlen = max_seq_len)\n",
        "x_test = keras.preprocessing.sequence.pad_sequences(x_test, maxlen = max_seq_len)"
      ],
      "metadata": {
        "id": "lk9wY5cYwCXS"
      },
      "execution_count": 18,
      "outputs": []
    },
    {
      "cell_type": "code",
      "source": [
        "x_train\n"
      ],
      "metadata": {
        "colab": {
          "base_uri": "https://localhost:8080/"
        },
        "id": "7yO1GrvYwCZZ",
        "outputId": "ffb1cf81-4c03-4f8e-cf17-b16b06c6c3d6"
      },
      "execution_count": 19,
      "outputs": [
        {
          "output_type": "execute_result",
          "data": {
            "text/plain": [
              "array([[0, 0, 0, ..., 0, 0, 0],\n",
              "       [0, 0, 0, ..., 0, 0, 0],\n",
              "       [0, 0, 0, ..., 0, 0, 0],\n",
              "       ...,\n",
              "       [0, 0, 0, ..., 0, 0, 0],\n",
              "       [0, 0, 0, ..., 0, 0, 0],\n",
              "       [0, 0, 0, ..., 0, 0, 0]], dtype=int32)"
            ]
          },
          "metadata": {},
          "execution_count": 19
        }
      ]
    },
    {
      "cell_type": "code",
      "source": [
        "max_seq_len = 80\n",
        "max_features = 17123\n",
        "x_train = keras.preprocessing.sequence.pad_sequences(x_train, maxlen = max_seq_len)\n",
        "emb_dim = 128\n",
        "\n",
        "model = keras.Sequential()\n",
        "model.add(layers.Embedding(max_features, emb_dim))\n",
        "model.add(layers.LSTM(128))\n",
        "model.add(layers.Dense(1, activation = 'sigmoid'))"
      ],
      "metadata": {
        "id": "Qm_w67svwCbj"
      },
      "execution_count": 20,
      "outputs": []
    },
    {
      "cell_type": "code",
      "source": [
        "len(dictionary)\n"
      ],
      "metadata": {
        "colab": {
          "base_uri": "https://localhost:8080/"
        },
        "id": "ZLYGBaMPwCd8",
        "outputId": "ce409fc0-b9f2-4d72-fe58-6eb0c4f32707"
      },
      "execution_count": 21,
      "outputs": [
        {
          "output_type": "execute_result",
          "data": {
            "text/plain": [
              "19107"
            ]
          },
          "metadata": {},
          "execution_count": 21
        }
      ]
    },
    {
      "cell_type": "code",
      "source": [
        "model.compile(optimizer = \"adam\",\n",
        "              loss = \"binary_crossentropy\",\n",
        "              metrics = [\"accuracy\"])\n",
        "\n",
        "history = model.fit(x_train,\n",
        "                    y_train,\n",
        "                    epochs = 10,\n",
        "                    batch_size = 512,\n",
        "                    validation_split = 0.1, \n",
        "                    shuffle = True,\n",
        "                    verbose = 1)"
      ],
      "metadata": {
        "colab": {
          "base_uri": "https://localhost:8080/"
        },
        "id": "5Y4N8srNwCfz",
        "outputId": "f7b76ae3-70a3-4620-b6ad-98ce0cd4a56b"
      },
      "execution_count": 22,
      "outputs": [
        {
          "output_type": "stream",
          "name": "stdout",
          "text": [
            "Epoch 1/10\n",
            "29/29 [==============================] - 89s 3s/step - loss: 0.6899 - accuracy: 0.5410 - val_loss: 0.6843 - val_accuracy: 0.5706\n",
            "Epoch 2/10\n",
            "29/29 [==============================] - 113s 4s/step - loss: 0.6892 - accuracy: 0.5450 - val_loss: 0.6837 - val_accuracy: 0.5706\n",
            "Epoch 3/10\n",
            "29/29 [==============================] - 117s 4s/step - loss: 0.6893 - accuracy: 0.5450 - val_loss: 0.6838 - val_accuracy: 0.5706\n",
            "Epoch 4/10\n",
            "29/29 [==============================] - 88s 3s/step - loss: 0.6894 - accuracy: 0.5450 - val_loss: 0.6856 - val_accuracy: 0.5706\n",
            "Epoch 5/10\n",
            "29/29 [==============================] - 83s 3s/step - loss: 0.6893 - accuracy: 0.5450 - val_loss: 0.6861 - val_accuracy: 0.5706\n",
            "Epoch 6/10\n",
            "29/29 [==============================] - 74s 2s/step - loss: 0.6893 - accuracy: 0.5450 - val_loss: 0.6856 - val_accuracy: 0.5706\n",
            "Epoch 7/10\n",
            "29/29 [==============================] - 68s 2s/step - loss: 0.6893 - accuracy: 0.5450 - val_loss: 0.6847 - val_accuracy: 0.5706\n",
            "Epoch 8/10\n",
            "29/29 [==============================] - 43s 1s/step - loss: 0.6893 - accuracy: 0.5450 - val_loss: 0.6838 - val_accuracy: 0.5706\n",
            "Epoch 9/10\n",
            "29/29 [==============================] - 47s 2s/step - loss: 0.6895 - accuracy: 0.5450 - val_loss: 0.6844 - val_accuracy: 0.5706\n",
            "Epoch 10/10\n",
            "29/29 [==============================] - 57s 2s/step - loss: 0.6892 - accuracy: 0.5450 - val_loss: 0.6847 - val_accuracy: 0.5706\n"
          ]
        }
      ]
    },
    {
      "cell_type": "code",
      "source": [
        "history_dict = history.history\n",
        "loss_values = history_dict[\"loss\"]\n",
        "val_loss_values = history_dict[\"val_loss\"]\n",
        "epochs = range(1, len(loss_values) + 1)\n",
        "plt.plot(epochs, loss_values, \"bo\", label=\"Training loss\")\n",
        "plt.plot(epochs, val_loss_values, \"b\", label=\"Validation loss\")\n",
        "plt.title(\"Training and validation loss\")\n",
        "plt.xlabel(\"Epochs\")\n",
        "plt.ylabel(\"Loss\")\n",
        "plt.legend()\n",
        "plt.show()"
      ],
      "metadata": {
        "colab": {
          "base_uri": "https://localhost:8080/",
          "height": 295
        },
        "id": "xiWbiDlLwChq",
        "outputId": "61393c56-f1dd-49dc-fccb-f3bdbe92c0bc"
      },
      "execution_count": 23,
      "outputs": [
        {
          "output_type": "display_data",
          "data": {
            "text/plain": [
              "<Figure size 432x288 with 1 Axes>"
            ],
            "image/png": "[encoded data removed]"
          },
          "metadata": {
            "needs_background": "light"
          }
        }
      ]
    },
    {
      "cell_type": "code",
      "source": [],
      "metadata": {
        "id": "7JN5vHh5wCjg"
      },
      "execution_count": 23,
      "outputs": []
    }
  ]
}