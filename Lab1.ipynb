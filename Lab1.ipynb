{
  "nbformat": 4,
  "nbformat_minor": 0,
  "metadata": {
    "colab": {
      "provenance": [],
      "collapsed_sections": []
    },
    "kernelspec": {
      "name": "python3",
      "display_name": "Python 3"
    },
    "language_info": {
      "name": "python"
    }
  },
  "cells": [
    {
      "cell_type": "code",
      "execution_count": 1,
      "metadata": {
        "id": "7nDkTM6x10Em"
      },
      "outputs": [],
      "source": [
        "import pandas as pd\n",
        "import seaborn as sns\n",
        "import matplotlib.pyplot as plt\n",
        "import numpy as np\n",
        "%matplotlib inline\n",
        "\n",
        "from sklearn.preprocessing import LabelEncoder, StandardScaler\n",
        "from sklearn.neighbors import KNeighborsClassifier\n",
        "from sklearn.metrics import classification_report,confusion_matrix, accuracy_score\n",
        "from sklearn.model_selection import train_test_split\n",
        "\n",
        "from sklearn.tree import DecisionTreeClassifier, plot_tree\n",
        "\n",
        "from sklearn.svm import SVC\n",
        "\n",
        "from sklearn.metrics import classification_report,confusion_matrix\n",
        "from sklearn.model_selection import GridSearchCV\n",
        "\n",
        "from sklearn.ensemble import RandomForestClassifier\n",
        "from sklearn.datasets import make_classification\n",
        "\n",
        "from sklearn.ensemble import AdaBoostClassifier\n"
      ]
    },
    {
      "cell_type": "code",
      "source": [
        "df = pd.read_csv('exams.csv')"
      ],
      "metadata": {
        "id": "2gvzT0-B2acK"
      },
      "execution_count": 2,
      "outputs": []
    },
    {
      "cell_type": "code",
      "source": [
        "df.columns\n"
      ],
      "metadata": {
        "colab": {
          "base_uri": "https://localhost:8080/"
        },
        "id": "Nc7igv9D2e8g",
        "outputId": "4ac5101c-2fc8-48ee-f77e-f4dc0254c3ac"
      },
      "execution_count": 3,
      "outputs": [
        {
          "output_type": "execute_result",
          "data": {
            "text/plain": [
              "Index(['gender', 'race/ethnicity', 'parental level of education', 'lunch',\n",
              "       'test preparation course', 'math score', 'reading score',\n",
              "       'writing score'],\n",
              "      dtype='object')"
            ]
          },
          "metadata": {},
          "execution_count": 3
        }
      ]
    },
    {
      "cell_type": "code",
      "source": [
        "df.shape[0] #shape[1] - columns"
      ],
      "metadata": {
        "colab": {
          "base_uri": "https://localhost:8080/"
        },
        "id": "_oAj-09n2gFw",
        "outputId": "7a546f40-fe05-4429-becb-e70186a97428"
      },
      "execution_count": 4,
      "outputs": [
        {
          "output_type": "execute_result",
          "data": {
            "text/plain": [
              "1000"
            ]
          },
          "metadata": {},
          "execution_count": 4
        }
      ]
    },
    {
      "cell_type": "code",
      "source": [
        "pd.Series([np.nan]).sum() # gap"
      ],
      "metadata": {
        "colab": {
          "base_uri": "https://localhost:8080/"
        },
        "id": "3qjrpZx53OVP",
        "outputId": "23256fc9-2ed2-42e7-f202-c016476e9360"
      },
      "execution_count": 5,
      "outputs": [
        {
          "output_type": "execute_result",
          "data": {
            "text/plain": [
              "0.0"
            ]
          },
          "metadata": {},
          "execution_count": 5
        }
      ]
    },
    {
      "cell_type": "code",
      "source": [
        "df.isnull().sum()"
      ],
      "metadata": {
        "colab": {
          "base_uri": "https://localhost:8080/"
        },
        "id": "CRDtVtsxDQxJ",
        "outputId": "a662ab92-8341-4971-f5b6-a41d320e7449"
      },
      "execution_count": 6,
      "outputs": [
        {
          "output_type": "execute_result",
          "data": {
            "text/plain": [
              "gender                         0\n",
              "race/ethnicity                 0\n",
              "parental level of education    0\n",
              "lunch                          0\n",
              "test preparation course        0\n",
              "math score                     0\n",
              "reading score                  0\n",
              "writing score                  0\n",
              "dtype: int64"
            ]
          },
          "metadata": {},
          "execution_count": 6
        }
      ]
    },
    {
      "cell_type": "code",
      "source": [
        "df.info()"
      ],
      "metadata": {
        "colab": {
          "base_uri": "https://localhost:8080/"
        },
        "id": "myUWwRUKHTFk",
        "outputId": "82f64ad9-9788-4f98-f31e-a10f9e20fb87"
      },
      "execution_count": 7,
      "outputs": [
        {
          "output_type": "stream",
          "name": "stdout",
          "text": [
            "<class 'pandas.core.frame.DataFrame'>\n",
            "RangeIndex: 1000 entries, 0 to 999\n",
            "Data columns (total 8 columns):\n",
            " #   Column                       Non-Null Count  Dtype \n",
            "---  ------                       --------------  ----- \n",
            " 0   gender                       1000 non-null   object\n",
            " 1   race/ethnicity               1000 non-null   object\n",
            " 2   parental level of education  1000 non-null   object\n",
            " 3   lunch                        1000 non-null   object\n",
            " 4   test preparation course      1000 non-null   object\n",
            " 5   math score                   1000 non-null   int64 \n",
            " 6   reading score                1000 non-null   int64 \n",
            " 7   writing score                1000 non-null   int64 \n",
            "dtypes: int64(3), object(5)\n",
            "memory usage: 62.6+ KB\n"
          ]
        }
      ]
    },
    {
      "cell_type": "code",
      "source": [
        "df = df[['gender', 'lunch', 'test preparation course', 'math score', 'reading score', 'writing score']]"
      ],
      "metadata": {
        "id": "c10_KAVVEgEN"
      },
      "execution_count": 8,
      "outputs": []
    },
    {
      "cell_type": "code",
      "source": [
        "def replacemet_gender(information):\n",
        "    if information == 'male':\n",
        "        return 1        \n",
        "    else:        #elif emotioin == 'female': return 0\n",
        "        return 0\n",
        "    \n",
        "df['gender'] = df['gender'].apply(lambda x:replacemet_gender(x))"
      ],
      "metadata": {
        "id": "ot2GtmA48Hz2",
        "colab": {
          "base_uri": "https://localhost:8080/"
        },
        "outputId": "b630d333-295b-416a-a9d5-73a6443a7f19"
      },
      "execution_count": 9,
      "outputs": [
        {
          "output_type": "stream",
          "name": "stderr",
          "text": [
            "/usr/local/lib/python3.7/dist-packages/ipykernel_launcher.py:7: SettingWithCopyWarning: \n",
            "A value is trying to be set on a copy of a slice from a DataFrame.\n",
            "Try using .loc[row_indexer,col_indexer] = value instead\n",
            "\n",
            "See the caveats in the documentation: https://pandas.pydata.org/pandas-docs/stable/user_guide/indexing.html#returning-a-view-versus-a-copy\n",
            "  import sys\n"
          ]
        }
      ]
    },
    {
      "cell_type": "code",
      "source": [
        "def replacemet_course(information):\n",
        "    if information == 'completed':\n",
        "        return 1        \n",
        "    else:        #elif emotioin == 'none': return 0\n",
        "        return 0\n",
        "\n",
        "df['test preparation course'] = df['test preparation course'].apply(lambda x:replacemet_course(x))"
      ],
      "metadata": {
        "id": "ADMNFHNqDN2d",
        "colab": {
          "base_uri": "https://localhost:8080/"
        },
        "outputId": "11403a65-fcd5-43cc-f200-de14ddfc939a"
      },
      "execution_count": 10,
      "outputs": [
        {
          "output_type": "stream",
          "name": "stderr",
          "text": [
            "/usr/local/lib/python3.7/dist-packages/ipykernel_launcher.py:7: SettingWithCopyWarning: \n",
            "A value is trying to be set on a copy of a slice from a DataFrame.\n",
            "Try using .loc[row_indexer,col_indexer] = value instead\n",
            "\n",
            "See the caveats in the documentation: https://pandas.pydata.org/pandas-docs/stable/user_guide/indexing.html#returning-a-view-versus-a-copy\n",
            "  import sys\n"
          ]
        }
      ]
    },
    {
      "cell_type": "code",
      "source": [
        "def replacemet_lunch(information):\n",
        "    if information == 'standard':\n",
        "        return 1        \n",
        "    else:        #elif emotioin == 'none': return 0\n",
        "        return 0\n",
        "\n",
        "df['lunch'] = df['lunch'].apply(lambda x:replacemet_lunch(x))"
      ],
      "metadata": {
        "colab": {
          "base_uri": "https://localhost:8080/"
        },
        "id": "Y9jFvblXEyD4",
        "outputId": "9e74db70-00f8-4155-aab8-695549e1b904"
      },
      "execution_count": 11,
      "outputs": [
        {
          "output_type": "stream",
          "name": "stderr",
          "text": [
            "/usr/local/lib/python3.7/dist-packages/ipykernel_launcher.py:7: SettingWithCopyWarning: \n",
            "A value is trying to be set on a copy of a slice from a DataFrame.\n",
            "Try using .loc[row_indexer,col_indexer] = value instead\n",
            "\n",
            "See the caveats in the documentation: https://pandas.pydata.org/pandas-docs/stable/user_guide/indexing.html#returning-a-view-versus-a-copy\n",
            "  import sys\n"
          ]
        }
      ]
    },
    {
      "cell_type": "code",
      "source": [
        "sns.heatmap(df.corr(), annot = True, vmin=0, vmax=1, center= 0, cmap= 'coolwarm', linewidths=3, linecolor='black')"
      ],
      "metadata": {
        "colab": {
          "base_uri": "https://localhost:8080/",
          "height": 393
        },
        "id": "TAF44IetGI8y",
        "outputId": "4fd71201-ae5b-462c-98c7-c3f600e4b71c"
      },
      "execution_count": 12,
      "outputs": [
        {
          "output_type": "execute_result",
          "data": {
            "text/plain": [
              "<matplotlib.axes._subplots.AxesSubplot at 0x7f579eaf1b50>"
            ]
          },
          "metadata": {},
          "execution_count": 12
        },
        {
          "output_type": "display_data",
          "data": {
            "text/plain": [
              "<Figure size 432x288 with 2 Axes>"
            ],
            "image/png": "[encoded data removed]"
          },
          "metadata": {
            "needs_background": "light"
          }
        }
      ]
    },
    {
      "cell_type": "code",
      "source": [
        "df.info()"
      ],
      "metadata": {
        "colab": {
          "base_uri": "https://localhost:8080/"
        },
        "id": "op4iVxrgGLqF",
        "outputId": "8175e485-f8ee-4e01-d1e3-0d59638bcbf7"
      },
      "execution_count": 13,
      "outputs": [
        {
          "output_type": "stream",
          "name": "stdout",
          "text": [
            "<class 'pandas.core.frame.DataFrame'>\n",
            "RangeIndex: 1000 entries, 0 to 999\n",
            "Data columns (total 6 columns):\n",
            " #   Column                   Non-Null Count  Dtype\n",
            "---  ------                   --------------  -----\n",
            " 0   gender                   1000 non-null   int64\n",
            " 1   lunch                    1000 non-null   int64\n",
            " 2   test preparation course  1000 non-null   int64\n",
            " 3   math score               1000 non-null   int64\n",
            " 4   reading score            1000 non-null   int64\n",
            " 5   writing score            1000 non-null   int64\n",
            "dtypes: int64(6)\n",
            "memory usage: 47.0 KB\n"
          ]
        }
      ]
    },
    {
      "cell_type": "markdown",
      "source": [
        "# **KNN**"
      ],
      "metadata": {
        "id": "NEWY3drpPkcw"
      }
    },
    {
      "cell_type": "code",
      "source": [
        "x = df.drop(['gender'], axis=1)\n",
        "y = df['gender']\n",
        "X_train, X_test, y_train, y_test = train_test_split(x, y, test_size=0.20)"
      ],
      "metadata": {
        "id": "2ZBCg59AHDWO"
      },
      "execution_count": 14,
      "outputs": []
    },
    {
      "cell_type": "code",
      "source": [
        "scaler = StandardScaler()"
      ],
      "metadata": {
        "id": "6On8j2hCFKqP"
      },
      "execution_count": 15,
      "outputs": []
    },
    {
      "cell_type": "code",
      "source": [
        "scaler.fit(X_train)"
      ],
      "metadata": {
        "colab": {
          "base_uri": "https://localhost:8080/"
        },
        "id": "V2f3PktiHFoO",
        "outputId": "ccd06c1d-9bb9-44db-99d2-e86084703650"
      },
      "execution_count": 16,
      "outputs": [
        {
          "output_type": "execute_result",
          "data": {
            "text/plain": [
              "StandardScaler()"
            ]
          },
          "metadata": {},
          "execution_count": 16
        }
      ]
    },
    {
      "cell_type": "code",
      "source": [
        "scaled_X_train = scaler.transform(X_train) \n",
        "scaled_X_test = scaler.transform(X_test) "
      ],
      "metadata": {
        "id": "xjP5NCxEHRKu"
      },
      "execution_count": 17,
      "outputs": []
    },
    {
      "cell_type": "code",
      "source": [
        "knn = KNeighborsClassifier(n_neighbors=5)"
      ],
      "metadata": {
        "id": "gNbLL9GIIFCP"
      },
      "execution_count": 18,
      "outputs": []
    },
    {
      "cell_type": "code",
      "source": [
        "knn.fit(scaled_X_train, y_train)"
      ],
      "metadata": {
        "colab": {
          "base_uri": "https://localhost:8080/"
        },
        "id": "n_Gd_IA6IIvt",
        "outputId": "9b697965-548c-41df-b17d-b8adaf35b320"
      },
      "execution_count": 19,
      "outputs": [
        {
          "output_type": "execute_result",
          "data": {
            "text/plain": [
              "KNeighborsClassifier()"
            ]
          },
          "metadata": {},
          "execution_count": 19
        }
      ]
    },
    {
      "cell_type": "code",
      "source": [
        "y_pred_KNN = knn.predict(scaled_X_test)"
      ],
      "metadata": {
        "id": "3_DVsqJ_IJVm"
      },
      "execution_count": 20,
      "outputs": []
    },
    {
      "cell_type": "code",
      "source": [
        "print(confusion_matrix(y_test, y_pred_KNN))"
      ],
      "metadata": {
        "colab": {
          "base_uri": "https://localhost:8080/"
        },
        "id": "NTEqzxGmIQKd",
        "outputId": "3c0f6434-d645-402b-e712-db7f69a235e3"
      },
      "execution_count": 21,
      "outputs": [
        {
          "output_type": "stream",
          "name": "stdout",
          "text": [
            "[[80 15]\n",
            " [12 93]]\n"
          ]
        }
      ]
    },
    {
      "cell_type": "code",
      "source": [
        "print(classification_report(y_test, y_pred_KNN))"
      ],
      "metadata": {
        "colab": {
          "base_uri": "https://localhost:8080/"
        },
        "id": "2aCbPqD7ISIt",
        "outputId": "43ce9a92-179d-4c0d-d548-3d31e602770a"
      },
      "execution_count": 22,
      "outputs": [
        {
          "output_type": "stream",
          "name": "stdout",
          "text": [
            "              precision    recall  f1-score   support\n",
            "\n",
            "           0       0.87      0.84      0.86        95\n",
            "           1       0.86      0.89      0.87       105\n",
            "\n",
            "    accuracy                           0.86       200\n",
            "   macro avg       0.87      0.86      0.86       200\n",
            "weighted avg       0.87      0.86      0.86       200\n",
            "\n"
          ]
        }
      ]
    },
    {
      "cell_type": "code",
      "source": [
        "print(accuracy_score(y_test, y_pred_KNN))"
      ],
      "metadata": {
        "colab": {
          "base_uri": "https://localhost:8080/"
        },
        "id": "T7cCH-8uIVFl",
        "outputId": "a473da8e-8305-404f-ca57-6b6bc9548180"
      },
      "execution_count": 23,
      "outputs": [
        {
          "output_type": "stream",
          "name": "stdout",
          "text": [
            "0.865\n"
          ]
        }
      ]
    },
    {
      "cell_type": "code",
      "source": [
        "error_rate = []\n",
        "\n",
        "for i in range(1,50):\n",
        "    knn = KNeighborsClassifier(n_neighbors=i)\n",
        "    knn.fit(scaled_X_train,y_train)\n",
        "    pred_i = knn.predict(scaled_X_test)\n",
        "    error_rate.append(np.mean(pred_i != y_test))"
      ],
      "metadata": {
        "id": "X0k5Va4YIfhd"
      },
      "execution_count": 24,
      "outputs": []
    },
    {
      "cell_type": "code",
      "source": [
        "plt.figure(figsize=(10,6))\n",
        "plt.plot(range(1,50), error_rate, marker='o', markersize=10)\n",
        "plt.title('Error Rate vs. K Value')\n",
        "plt.xlabel('K')\n",
        "plt.ylabel('Error Rate')\n",
        "plt.grid()"
      ],
      "metadata": {
        "colab": {
          "base_uri": "https://localhost:8080/",
          "height": 404
        },
        "id": "rQ51PeHpOKHw",
        "outputId": "55d19533-b49a-464b-9876-20a2715efdd3"
      },
      "execution_count": 25,
      "outputs": [
        {
          "output_type": "display_data",
          "data": {
            "text/plain": [
              "<Figure size 720x432 with 1 Axes>"
            ],
            "image/png": "[encoded data removed]"
          },
          "metadata": {
            "needs_background": "light"
          }
        }
      ]
    },
    {
      "cell_type": "code",
      "source": [
        "knn = KNeighborsClassifier(n_neighbors=11) # Optimal n_neighbors = [11, 12]\n",
        "\n",
        "knn.fit(scaled_X_train,y_train)\n",
        "y_pred_KNN_best = knn.predict(scaled_X_test)\n",
        "\n",
        "print(confusion_matrix(y_test, y_pred_KNN_best))\n",
        "print()\n",
        "print(classification_report(y_test, y_pred_KNN_best))"
      ],
      "metadata": {
        "colab": {
          "base_uri": "https://localhost:8080/"
        },
        "id": "jwhCbhDSIo9F",
        "outputId": "2d841565-d97c-4420-db4f-c071166f072a"
      },
      "execution_count": 26,
      "outputs": [
        {
          "output_type": "stream",
          "name": "stdout",
          "text": [
            "[[80 15]\n",
            " [12 93]]\n",
            "\n",
            "              precision    recall  f1-score   support\n",
            "\n",
            "           0       0.87      0.84      0.86        95\n",
            "           1       0.86      0.89      0.87       105\n",
            "\n",
            "    accuracy                           0.86       200\n",
            "   macro avg       0.87      0.86      0.86       200\n",
            "weighted avg       0.87      0.86      0.86       200\n",
            "\n"
          ]
        }
      ]
    },
    {
      "cell_type": "markdown",
      "source": [
        "# **Decision Tree**"
      ],
      "metadata": {
        "id": "SCeNHjLIPajx"
      }
    },
    {
      "cell_type": "code",
      "source": [
        "# x = df.drop(['gender'], axis = 1)\n",
        "# y = df['gender']"
      ],
      "metadata": {
        "id": "apFPhPCcPfNt"
      },
      "execution_count": 27,
      "outputs": []
    },
    {
      "cell_type": "code",
      "source": [
        "# X_train, X_test, y_train, y_test = train_test_split(x, y, test_size=0.20)"
      ],
      "metadata": {
        "id": "9vYm3WADQFX8"
      },
      "execution_count": 28,
      "outputs": []
    },
    {
      "cell_type": "code",
      "source": [
        "params = {\n",
        "    'criterion':  ['gini', 'entropy'],\n",
        "    'max_depth':  [None, 2, 4, 6, 8, 10],\n",
        "    'max_features': [None, 'sqrt', 'log2', 0.2, 0.4, 0.6, 0.8],\n",
        "    'splitter': ['best', 'random']\n",
        "}\n",
        "\n",
        "clf_DecisionTree = GridSearchCV(\n",
        "    estimator=DecisionTreeClassifier(),\n",
        "    param_grid=params,\n",
        "    cv=5,\n",
        "    n_jobs=5,\n",
        "    verbose=1,\n",
        ")\n",
        "\n",
        "clf_DecisionTree.fit(X_train, y_train)\n",
        "print(clf_DecisionTree.best_params_)"
      ],
      "metadata": {
        "colab": {
          "base_uri": "https://localhost:8080/"
        },
        "id": "ZTct9YzwUZAN",
        "outputId": "0004a586-805c-4783-9a02-35f36e9448a2"
      },
      "execution_count": 29,
      "outputs": [
        {
          "output_type": "stream",
          "name": "stdout",
          "text": [
            "Fitting 5 folds for each of 168 candidates, totalling 840 fits\n",
            "{'criterion': 'entropy', 'max_depth': None, 'max_features': None, 'splitter': 'best'}\n"
          ]
        }
      ]
    },
    {
      "cell_type": "code",
      "source": [
        "clf_DecisionTree_best = DecisionTreeClassifier(criterion='entropy', max_depth=8, max_features=None, splitter='best')\n",
        "clf_DecisionTree_best.fit(X_train, y_train)\n",
        "y_pred_DecisionTree = clf_DecisionTree_best.predict(X_test)"
      ],
      "metadata": {
        "id": "ksOhlwIAQ_X0"
      },
      "execution_count": 30,
      "outputs": []
    },
    {
      "cell_type": "code",
      "source": [
        "print(classification_report(y_test, y_pred_DecisionTree))"
      ],
      "metadata": {
        "colab": {
          "base_uri": "https://localhost:8080/"
        },
        "id": "QfklGaugQGdi",
        "outputId": "6cb70eae-a0b3-44d6-e255-75a02e7ce0b9"
      },
      "execution_count": 31,
      "outputs": [
        {
          "output_type": "stream",
          "name": "stdout",
          "text": [
            "              precision    recall  f1-score   support\n",
            "\n",
            "           0       0.79      0.79      0.79        95\n",
            "           1       0.81      0.81      0.81       105\n",
            "\n",
            "    accuracy                           0.80       200\n",
            "   macro avg       0.80      0.80      0.80       200\n",
            "weighted avg       0.80      0.80      0.80       200\n",
            "\n"
          ]
        }
      ]
    },
    {
      "cell_type": "code",
      "source": [
        "print(confusion_matrix(y_test, y_pred_DecisionTree))"
      ],
      "metadata": {
        "colab": {
          "base_uri": "https://localhost:8080/"
        },
        "id": "E-RahZgFQf8C",
        "outputId": "88258b93-6af9-48d3-a5bc-5be923bbcba2"
      },
      "execution_count": 32,
      "outputs": [
        {
          "output_type": "stream",
          "name": "stdout",
          "text": [
            "[[75 20]\n",
            " [20 85]]\n"
          ]
        }
      ]
    },
    {
      "cell_type": "code",
      "source": [
        "df.columns"
      ],
      "metadata": {
        "colab": {
          "base_uri": "https://localhost:8080/"
        },
        "id": "gkMKjKgBRgZE",
        "outputId": "862732c4-fd56-4c0e-f5f5-efbd69c0520f"
      },
      "execution_count": 33,
      "outputs": [
        {
          "output_type": "execute_result",
          "data": {
            "text/plain": [
              "Index(['gender', 'lunch', 'test preparation course', 'math score',\n",
              "       'reading score', 'writing score'],\n",
              "      dtype='object')"
            ]
          },
          "metadata": {},
          "execution_count": 33
        }
      ]
    },
    {
      "cell_type": "code",
      "source": [
        "# plt.figure(figsize = (50, 50))\n",
        "# plot_tree(model, feature_names = ['lunch', 'test preparation course', 'math score',\n",
        "#        'reading score', 'writing score'], \n",
        "#           class_names = ['0', '1'], filled = True)\n",
        "# plt.show()"
      ],
      "metadata": {
        "id": "3n3cWxUbRN-a"
      },
      "execution_count": 34,
      "outputs": []
    },
    {
      "cell_type": "markdown",
      "source": [
        "# **SVM**"
      ],
      "metadata": {
        "id": "LSTczeejX1rD"
      }
    },
    {
      "cell_type": "code",
      "source": [
        "# x = df.drop(['gender'], axis = 1)\n",
        "# y = df['gender']"
      ],
      "metadata": {
        "id": "QndrNc9-YH7T"
      },
      "execution_count": 35,
      "outputs": []
    },
    {
      "cell_type": "code",
      "source": [
        "# X_train, X_test, y_train, y_test = train_test_split(x, y, test_size=0.20)"
      ],
      "metadata": {
        "id": "Upb70TROYIm_"
      },
      "execution_count": 36,
      "outputs": []
    },
    {
      "cell_type": "code",
      "source": [
        "scaler = StandardScaler()\n",
        "scaler.fit(X_train)\n",
        "scaled_X_train = scaler.transform(X_train) \n",
        "scaled_X_test = scaler.transform(X_test)"
      ],
      "metadata": {
        "id": "kctWmBiXYy8O"
      },
      "execution_count": 37,
      "outputs": []
    },
    {
      "cell_type": "code",
      "source": [
        "scaled_X_test"
      ],
      "metadata": {
        "colab": {
          "base_uri": "https://localhost:8080/"
        },
        "id": "xG16F2-YZIgW",
        "outputId": "aad34c13-b084-4463-9c37-e290f763dcfd"
      },
      "execution_count": 38,
      "outputs": [
        {
          "output_type": "execute_result",
          "data": {
            "text/plain": [
              "array([[ 0.73783572, -0.69784586,  0.76182456,  1.36425321,  1.63305128],\n",
              "       [ 0.73783572,  1.4329812 ,  1.08707786,  0.34380575,  0.28348851],\n",
              "       [ 0.73783572,  1.4329812 ,  0.24141927,  0.41183558,  0.47628319],\n",
              "       [ 0.73783572, -0.69784586, -1.05959396, -1.56102949, -1.25886894],\n",
              "       [ 0.73783572, -0.69784586,  0.43657125,  0.27577592,  0.15495873],\n",
              "       [ 0.73783572, -0.69784586, -0.86444197,  0.20774609, -0.10210085],\n",
              "       [ 0.73783572, -0.69784586,  0.24141927,  0.27577592, -0.10210085],\n",
              "       [-1.35531525, -0.69784586,  1.0220272 ,  1.77243219,  1.63305128],\n",
              "       [ 0.73783572,  1.4329812 , -0.27898602, -0.26846272, -0.03783596],\n",
              "       [-1.35531525, -0.69784586,  0.30646993,  0.82001456,  0.60481298],\n",
              "       [ 0.73783572,  1.4329812 ,  0.37152059,  1.29622338,  1.56878639],\n",
              "       [ 0.73783572, -0.69784586, -0.08383404,  0.27577592,  0.86187256],\n",
              "       [ 0.73783572, -0.69784586,  0.82687522,  0.61592507,  0.60481298],\n",
              "       [ 0.73783572, -0.69784586,  0.11131794,  0.20774609,  0.34775341],\n",
              "       [-1.35531525,  1.4329812 ,  0.17636861, -0.20043289, -0.16636574],\n",
              "       [-1.35531525, -0.69784586,  0.11131794, -0.06437323, -0.55195511],\n",
              "       [-1.35531525,  1.4329812 ,  0.04626728,  0.07168643,  0.15495873],\n",
              "       [ 0.73783572, -0.69784586, -0.79939131, -1.15285051, -1.25886894],\n",
              "       [-1.35531525, -0.69784586, -2.23050586, -1.90117864, -1.83725298],\n",
              "       [-1.35531525,  1.4329812 , -0.21393536, -0.60861187, -0.29489553],\n",
              "       [ 0.73783572, -0.69784586, -0.53918867, -1.28891017, -1.32313383],\n",
              "       [ 0.73783572, -0.69784586, -0.47413801,  0.0036566 ,  0.28348851],\n",
              "       [ 0.73783572,  1.4329812 ,  0.50162191,  1.36425321,  1.37599171],\n",
              "       [ 0.73783572,  1.4329812 ,  2.06283778,  1.70440236,  1.76158107],\n",
              "       [ 0.73783572, -0.69784586, -0.79939131, -0.81270136, -0.48769021],\n",
              "       [ 0.73783572,  1.4329812 ,  0.76182456,  0.47986541,  0.34775341],\n",
              "       [ 0.73783572, -0.69784586, -0.1488847 , -0.33649255, -0.10210085],\n",
              "       [-1.35531525, -0.69784586, -0.66928999, -1.28891017, -1.58019341],\n",
              "       [-1.35531525, -0.69784586, -0.27898602, -1.76511898, -1.45166362],\n",
              "       [ 0.73783572,  1.4329812 , -0.60423933, -0.47255221,  0.34775341],\n",
              "       [ 0.73783572, -0.69784586,  0.69677389, -0.33649255,  0.15495873],\n",
              "       [ 0.73783572,  1.4329812 , -1.3197966 , -1.22088034, -1.32313383],\n",
              "       [ 0.73783572,  1.4329812 ,  0.50162191,  1.09213389,  1.05466724],\n",
              "       [ 0.73783572, -0.69784586, -0.53918867, -1.15285051, -0.80901468],\n",
              "       [ 0.73783572, -0.69784586, -0.21393536, -0.88073119, -0.16636574],\n",
              "       [-1.35531525, -0.69784586, -0.27898602,  0.41183558,  0.28348851],\n",
              "       [ 0.73783572, -0.69784586, -0.1488847 , -1.42496983, -1.13033915],\n",
              "       [ 0.73783572, -0.69784586,  1.08707786,  1.5683427 ,  1.5045215 ],\n",
              "       [ 0.73783572, -0.69784586,  0.24141927,  0.41183558,  0.4120183 ],\n",
              "       [ 0.73783572, -0.69784586, -0.53918867, -0.60861187, -0.23063064],\n",
              "       [ 0.73783572,  1.4329812 ,  1.08707786,  1.5683427 ,  1.76158107],\n",
              "       [-1.35531525,  1.4329812 ,  1.08707786, -0.40452238, -0.29489553],\n",
              "       [ 0.73783572,  1.4329812 , -1.12464462, -0.33649255, -0.03783596],\n",
              "       [ 0.73783572, -0.69784586,  0.63172323,  0.34380575,  0.28348851],\n",
              "       [ 0.73783572, -0.69784586,  0.43657125,  0.07168643, -0.16636574],\n",
              "       [-1.35531525, -0.69784586, -1.3197966 , -1.69708915, -1.51592852],\n",
              "       [ 0.73783572,  1.4329812 ,  1.80263513,  1.5683427 ,  1.56878639],\n",
              "       [ 0.73783572, -0.69784586, -1.18969528, -1.15285051, -1.19460405],\n",
              "       [-1.35531525,  1.4329812 , -0.53918867,  0.0036566 ,  0.4120183 ],\n",
              "       [-1.35531525,  1.4329812 , -0.27898602, -0.06437323,  0.21922362],\n",
              "       [-1.35531525, -0.69784586, -1.57999925, -0.54058204, -1.06607426],\n",
              "       [-1.35531525,  1.4329812 , -2.62080983, -1.69708915, -1.38739873],\n",
              "       [ 0.73783572, -0.69784586, -0.60423933,  0.34380575, -0.23063064],\n",
              "       [ 0.73783572, -0.69784586,  0.50162191,  0.47986541,  0.15495873],\n",
              "       [ 0.73783572, -0.69784586,  1.47738183,  2.11258134,  2.08290554],\n",
              "       [-1.35531525, -0.69784586, -0.60423933,  0.41183558,  0.15495873],\n",
              "       [-1.35531525, -0.69784586,  0.95697654,  0.27577592,  0.28348851],\n",
              "       [ 0.73783572,  1.4329812 ,  1.21717918,  1.63637253,  1.56878639],\n",
              "       [-1.35531525, -0.69784586, -1.25474594, -1.35694   , -1.13033915],\n",
              "       [ 0.73783572, -0.69784586,  1.21717918,  1.43228304,  1.05466724],\n",
              "       [-1.35531525, -0.69784586, -0.34403668,  0.13971626,  0.34775341],\n",
              "       [ 0.73783572, -0.69784586,  0.17636861, -0.88073119, -0.68048489],\n",
              "       [ 0.73783572,  1.4329812 , -0.66928999, -0.60861187, -0.35916043],\n",
              "       [ 0.73783572, -0.69784586, -0.01878338, -0.54058204, -0.29489553],\n",
              "       [-1.35531525, -0.69784586,  0.24141927,  0.27577592,  0.09069383],\n",
              "       [-1.35531525,  1.4329812 , -1.18969528,  0.13971626,  0.02642894],\n",
              "       [ 0.73783572,  1.4329812 , -0.73434065, -0.47255221, -0.23063064],\n",
              "       [ 0.73783572,  1.4329812 , -0.08383404,  0.95607422,  0.92613745],\n",
              "       [-1.35531525, -0.69784586, -1.64504991, -2.0372383 , -2.15857745],\n",
              "       [-1.35531525, -0.69784586, -0.40908735,  0.20774609, -0.23063064],\n",
              "       [-1.35531525,  1.4329812 , -2.4907085 , -1.69708915, -1.13033915],\n",
              "       [ 0.73783572, -0.69784586, -0.27898602, -0.94876102, -0.74474979],\n",
              "       [ 0.73783572, -0.69784586, -0.92949263, -1.35694   , -1.58019341],\n",
              "       [ 0.73783572, -0.69784586,  0.04626728, -0.40452238, -0.10210085],\n",
              "       [-1.35531525,  1.4329812 , -0.86444197,  0.07168643,  0.09069383],\n",
              "       [ 0.73783572,  1.4329812 ,  1.54243249,  1.36425321,  1.24746192],\n",
              "       [ 0.73783572, -0.69784586,  0.11131794,  0.13971626,  0.21922362],\n",
              "       [ 0.73783572,  1.4329812 ,  1.80263513,  1.22819355,  1.63305128],\n",
              "       [ 0.73783572,  1.4329812 ,  1.21717918,  1.22819355,  1.69731618],\n",
              "       [-1.35531525, -0.69784586, -0.08383404, -0.40452238, -0.16636574],\n",
              "       [-1.35531525,  1.4329812 ,  1.67253381,  2.11258134,  1.95437575],\n",
              "       [ 0.73783572, -0.69784586, -0.73434065, -1.42496983, -1.6444583 ],\n",
              "       [-1.35531525, -0.69784586,  0.89192588,  0.07168643,  0.21922362],\n",
              "       [ 0.73783572, -0.69784586,  0.30646993,  0.20774609,  0.21922362],\n",
              "       [ 0.73783572,  1.4329812 ,  0.76182456,  0.61592507,  0.4120183 ],\n",
              "       [ 0.73783572,  1.4329812 , -1.64504991, -1.76511898, -1.45166362],\n",
              "       [ 0.73783572,  1.4329812 ,  1.60748315,  1.02410405,  0.99040235],\n",
              "       [-1.35531525, -0.69784586, -0.9945433 , -0.81270136, -0.68048489],\n",
              "       [-1.35531525,  1.4329812 , -0.86444197,  0.34380575,  0.47628319],\n",
              "       [ 0.73783572, -0.69784586,  1.34728051,  1.90849185,  2.08290554],\n",
              "       [ 0.73783572,  1.4329812 , -0.53918867, -0.40452238, -0.03783596],\n",
              "       [ 0.73783572,  1.4329812 ,  1.41233117,  0.61592507,  0.54054809],\n",
              "       [ 0.73783572, -0.69784586,  0.43657125,  0.13971626, -0.23063064],\n",
              "       [ 0.73783572, -0.69784586,  2.12788844,  1.70440236,  1.89011086],\n",
              "       [-1.35531525, -0.69784586, -0.92949263, -1.08482068, -1.32313383],\n",
              "       [ 0.73783572,  1.4329812 , -1.3197966 , -0.26846272, -0.23063064],\n",
              "       [ 0.73783572, -0.69784586,  0.76182456,  0.20774609,  0.02642894],\n",
              "       [-1.35531525, -0.69784586, -0.01878338,  0.95607422,  0.92613745],\n",
              "       [ 0.73783572, -0.69784586, -0.08383404, -0.40452238, -0.23063064],\n",
              "       [ 0.73783572, -0.69784586,  0.63172323,  0.13971626,  0.15495873],\n",
              "       [ 0.73783572, -0.69784586, -0.66928999, -0.33649255, -0.55195511],\n",
              "       [-1.35531525, -0.69784586, -1.84020189, -1.56102949, -2.22284235],\n",
              "       [-1.35531525, -0.69784586, -1.90525255, -2.78556643, -2.86549129],\n",
              "       [ 0.73783572, -0.69784586, -0.40908735, -1.01679085, -0.93754447],\n",
              "       [-1.35531525,  1.4329812 , -0.79939131, -0.54058204, -0.35916043],\n",
              "       [ 0.73783572, -0.69784586,  0.30646993, -0.40452238, -0.10210085],\n",
              "       [ 0.73783572, -0.69784586,  0.30646993,  0.20774609,  0.09069383],\n",
              "       [ 0.73783572,  1.4329812 ,  2.1929391 ,  1.90849185,  2.08290554],\n",
              "       [ 0.73783572, -0.69784586, -1.38484726, -1.28891017, -1.7087232 ],\n",
              "       [-1.35531525, -0.69784586,  0.95697654,  0.6839549 ,  0.21922362],\n",
              "       [ 0.73783572,  1.4329812 ,  1.28222984,  2.11258134,  2.08290554],\n",
              "       [-1.35531525,  1.4329812 , -0.34403668,  0.0036566 ,  0.02642894],\n",
              "       [ 0.73783572,  1.4329812 ,  0.11131794,  0.07168643, -0.29489553],\n",
              "       [ 0.73783572,  1.4329812 ,  0.30646993,  1.22819355,  1.56878639],\n",
              "       [-1.35531525, -0.69784586,  0.24141927,  1.02410405,  0.66907788],\n",
              "       [-1.35531525, -0.69784586, -0.40908735, -0.47255221, -0.61622   ],\n",
              "       [-1.35531525, -0.69784586,  0.89192588,  1.16016372,  1.24746192],\n",
              "       [ 0.73783572, -0.69784586, -1.3197966 , -1.22088034, -0.87327958],\n",
              "       [ 0.73783572,  1.4329812 ,  0.69677389,  0.20774609,  0.73334277],\n",
              "       [-1.35531525, -0.69784586, -0.1488847 , -0.33649255, -0.55195511],\n",
              "       [ 0.73783572,  1.4329812 ,  0.89192588,  0.13971626,  0.02642894],\n",
              "       [ 0.73783572, -0.69784586, -0.27898602, -0.26846272, -0.23063064],\n",
              "       [ 0.73783572,  1.4329812 , -0.66928999, -0.06437323,  0.34775341],\n",
              "       [ 0.73783572, -0.69784586,  1.15212852,  1.77243219,  1.37599171],\n",
              "       [ 0.73783572, -0.69784586, -0.66928999, -0.40452238, -0.35916043],\n",
              "       [-1.35531525,  1.4329812 , -0.21393536,  0.0036566 , -0.55195511],\n",
              "       [-1.35531525, -0.69784586, -1.57999925, -1.96920847, -1.77298809],\n",
              "       [ 0.73783572, -0.69784586, -0.60423933, -1.15285051, -1.32313383],\n",
              "       [ 0.73783572,  1.4329812 ,  1.41233117,  1.22819355,  1.69731618],\n",
              "       [ 0.73783572,  1.4329812 ,  0.69677389,  0.07168643,  0.66907788],\n",
              "       [ 0.73783572, -0.69784586,  1.60748315,  1.29622338,  1.4402566 ],\n",
              "       [-1.35531525,  1.4329812 , -0.73434065, -0.06437323, -0.48769021],\n",
              "       [-1.35531525, -0.69784586, -0.47413801, -0.54058204, -0.61622   ],\n",
              "       [ 0.73783572, -0.69784586, -0.60423933, -0.6766417 , -0.87327958],\n",
              "       [ 0.73783572,  1.4329812 , -0.60423933, -0.06437323,  0.54054809],\n",
              "       [ 0.73783572, -0.69784586, -0.60423933, -0.6766417 , -0.93754447],\n",
              "       [ 0.73783572, -0.69784586,  0.56667257,  0.75198473,  0.28348851],\n",
              "       [-1.35531525,  1.4329812 , -0.01878338, -0.6766417 ,  0.02642894],\n",
              "       [-1.35531525, -0.69784586, -0.92949263, -0.74467153, -0.48769021],\n",
              "       [ 0.73783572,  1.4329812 ,  2.1929391 ,  2.11258134,  2.08290554],\n",
              "       [ 0.73783572,  1.4329812 , -1.05959396, -0.40452238, -0.16636574],\n",
              "       [-1.35531525,  1.4329812 ,  0.76182456,  1.43228304,  0.86187256],\n",
              "       [ 0.73783572, -0.69784586,  0.69677389,  0.54789524,  0.99040235],\n",
              "       [ 0.73783572, -0.69784586,  1.54243249,  0.47986541,  0.34775341],\n",
              "       [ 0.73783572,  1.4329812 ,  0.56667257,  1.63637253,  1.89011086],\n",
              "       [ 0.73783572,  1.4329812 , -0.08383404,  0.0036566 ,  0.4120183 ],\n",
              "       [ 0.73783572, -0.69784586,  0.43657125, -0.26846272, -0.23063064],\n",
              "       [ 0.73783572, -0.69784586,  2.1929391 ,  1.02410405,  1.31172681],\n",
              "       [ 0.73783572,  1.4329812 ,  2.1929391 ,  1.50031287,  1.4402566 ],\n",
              "       [-1.35531525, -0.69784586,  0.30646993, -0.47255221, -0.10210085],\n",
              "       [ 0.73783572,  1.4329812 ,  0.04626728, -0.13240306, -0.29489553],\n",
              "       [ 0.73783572, -0.69784586, -0.40908735, -0.54058204, -0.61622   ],\n",
              "       [ 0.73783572, -0.69784586,  1.21717918,  0.0036566 ,  0.4120183 ],\n",
              "       [ 0.73783572,  1.4329812 , -0.08383404, -0.40452238, -0.10210085],\n",
              "       [ 0.73783572,  1.4329812 ,  0.56667257,  1.09213389,  1.24746192],\n",
              "       [ 0.73783572, -0.69784586, -0.73434065, -1.01679085, -1.32313383],\n",
              "       [-1.35531525, -0.69784586, -0.60423933, -1.15285051, -0.93754447],\n",
              "       [ 0.73783572, -0.69784586, -0.73434065, -1.01679085, -0.87327958],\n",
              "       [-1.35531525, -0.69784586, -1.64504991, -1.83314881, -1.90151788],\n",
              "       [-1.35531525,  1.4329812 , -0.01878338,  0.61592507,  0.60481298],\n",
              "       [ 0.73783572, -0.69784586,  1.28222984,  0.95607422,  0.86187256],\n",
              "       [ 0.73783572,  1.4329812 , -0.21393536,  0.61592507,  0.47628319],\n",
              "       [ 0.73783572,  1.4329812 , -0.47413801,  0.27577592,  0.4120183 ],\n",
              "       [ 0.73783572,  1.4329812 ,  0.24141927,  0.75198473,  1.18319703],\n",
              "       [-1.35531525, -0.69784586, -0.66928999, -0.26846272, -0.74474979],\n",
              "       [-1.35531525, -0.69784586, -1.38484726, -1.56102949, -1.19460405],\n",
              "       [ 0.73783572, -0.69784586, -0.60423933, -0.88073119, -0.61622   ],\n",
              "       [ 0.73783572, -0.69784586,  2.1929391 ,  1.29622338,  1.24746192],\n",
              "       [ 0.73783572, -0.69784586,  1.08707786,  0.07168643,  0.34775341],\n",
              "       [ 0.73783572, -0.69784586, -0.40908735, -0.06437323,  0.4120183 ],\n",
              "       [-1.35531525, -0.69784586,  0.30646993, -0.40452238, -0.23063064],\n",
              "       [ 0.73783572, -0.69784586,  0.76182456, -0.26846272, -0.48769021],\n",
              "       [ 0.73783572, -0.69784586,  0.17636861,  1.09213389,  0.66907788],\n",
              "       [-1.35531525, -0.69784586,  0.82687522, -0.26846272, -0.55195511],\n",
              "       [ 0.73783572, -0.69784586, -0.21393536, -0.47255221, -0.23063064],\n",
              "       [-1.35531525,  1.4329812 , -1.18969528, -0.54058204, -0.55195511],\n",
              "       [-1.35531525,  1.4329812 , -0.66928999, -0.13240306, -0.74474979],\n",
              "       [-1.35531525, -0.69784586, -0.27898602, -0.54058204, -0.68048489],\n",
              "       [ 0.73783572, -0.69784586, -1.3197966 , -0.40452238, -0.48769021],\n",
              "       [ 0.73783572, -0.69784586,  1.28222984,  0.95607422,  1.24746192],\n",
              "       [ 0.73783572,  1.4329812 , -1.18969528, -0.20043289,  0.02642894],\n",
              "       [ 0.73783572, -0.69784586,  1.15212852,  1.22819355,  1.56878639],\n",
              "       [ 0.73783572, -0.69784586,  0.89192588,  0.61592507,  0.4120183 ],\n",
              "       [ 0.73783572, -0.69784586, -0.47413801, -0.6766417 , -0.61622   ],\n",
              "       [ 0.73783572,  1.4329812 ,  0.82687522,  1.29622338,  1.18319703],\n",
              "       [-1.35531525, -0.69784586, -0.53918867,  0.20774609,  0.15495873],\n",
              "       [ 0.73783572, -0.69784586, -0.47413801, -1.35694   , -1.38739873],\n",
              "       [ 0.73783572,  1.4329812 ,  0.24141927,  0.47986541,  0.28348851],\n",
              "       [-1.35531525, -0.69784586, -1.3197966 , -2.10526813, -2.28710724],\n",
              "       [-1.35531525,  1.4329812 , -1.25474594,  0.0036566 , -0.35916043],\n",
              "       [ 0.73783572, -0.69784586,  2.1929391 ,  1.50031287,  1.18319703],\n",
              "       [-1.35531525, -0.69784586,  1.73758447,  1.16016372,  0.34775341],\n",
              "       [ 0.73783572, -0.69784586, -0.66928999, -2.10526813, -1.51592852],\n",
              "       [ 0.73783572, -0.69784586,  0.17636861, -0.40452238, -0.10210085],\n",
              "       [ 0.73783572, -0.69784586,  0.69677389,  1.50031287,  1.24746192],\n",
              "       [ 0.73783572,  1.4329812 ,  1.21717918,  1.09213389,  1.5045215 ],\n",
              "       [ 0.73783572, -0.69784586,  1.99778712,  1.63637253,  1.31172681],\n",
              "       [-1.35531525, -0.69784586, -1.51494859, -0.06437323, -0.61622   ],\n",
              "       [ 0.73783572, -0.69784586,  0.95697654,  0.41183558,  0.15495873],\n",
              "       [-1.35531525, -0.69784586, -1.18969528, -1.35694   , -1.51592852]])"
            ]
          },
          "metadata": {},
          "execution_count": 38
        }
      ]
    },
    {
      "cell_type": "code",
      "source": [
        "model = SVC(C=1, gamma = 1, kernel = 'rbf')"
      ],
      "metadata": {
        "id": "caoXOjRvZK3W"
      },
      "execution_count": 39,
      "outputs": []
    },
    {
      "cell_type": "code",
      "source": [
        "model.fit(scaled_X_train,y_train)"
      ],
      "metadata": {
        "colab": {
          "base_uri": "https://localhost:8080/"
        },
        "id": "_sbX17VPZg61",
        "outputId": "5011535e-0f13-4a26-c3f7-05d249232732"
      },
      "execution_count": 40,
      "outputs": [
        {
          "output_type": "execute_result",
          "data": {
            "text/plain": [
              "SVC(C=1, gamma=1)"
            ]
          },
          "metadata": {},
          "execution_count": 40
        }
      ]
    },
    {
      "cell_type": "code",
      "source": [
        "y_pred = model.predict(scaled_X_test)"
      ],
      "metadata": {
        "id": "1UaG56HYZzke"
      },
      "execution_count": 41,
      "outputs": []
    },
    {
      "cell_type": "code",
      "source": [
        "print(confusion_matrix(y_test, y_pred))\n"
      ],
      "metadata": {
        "colab": {
          "base_uri": "https://localhost:8080/"
        },
        "id": "hczy9CeZZ1J2",
        "outputId": "a37ab9c3-3497-4509-8f9d-9ccd583a9812"
      },
      "execution_count": 42,
      "outputs": [
        {
          "output_type": "stream",
          "name": "stdout",
          "text": [
            "[[82 13]\n",
            " [12 93]]\n"
          ]
        }
      ]
    },
    {
      "cell_type": "code",
      "source": [
        "print(classification_report(y_test, y_pred))\n"
      ],
      "metadata": {
        "colab": {
          "base_uri": "https://localhost:8080/"
        },
        "id": "PX-GYpOSZ6D2",
        "outputId": "fa44cb25-b816-45ee-9dec-4c0e09ce4f84"
      },
      "execution_count": 43,
      "outputs": [
        {
          "output_type": "stream",
          "name": "stdout",
          "text": [
            "              precision    recall  f1-score   support\n",
            "\n",
            "           0       0.87      0.86      0.87        95\n",
            "           1       0.88      0.89      0.88       105\n",
            "\n",
            "    accuracy                           0.88       200\n",
            "   macro avg       0.87      0.87      0.87       200\n",
            "weighted avg       0.87      0.88      0.87       200\n",
            "\n"
          ]
        }
      ]
    },
    {
      "cell_type": "code",
      "source": [
        "params = {\n",
        "    'C':  [0.1, 1, 10, 100, 1000],\n",
        "    'gamma':  [1,0.1,0.01,0.001,0.0001],\n",
        "    'kernel': ['rbf'],\n",
        "}\n",
        "\n",
        "grid = GridSearchCV(\n",
        "    SVC(),\n",
        "    params,\n",
        "    refit = True\n",
        ")\n",
        "\n",
        "grid.fit(scaled_X_train,y_train)\n",
        "print(grid.best_params_)"
      ],
      "metadata": {
        "colab": {
          "base_uri": "https://localhost:8080/"
        },
        "id": "ZR4VRrH8Z9AG",
        "outputId": "7c3c85b5-cafc-4e55-bf40-310109b8de6c"
      },
      "execution_count": 44,
      "outputs": [
        {
          "output_type": "stream",
          "name": "stdout",
          "text": [
            "{'C': 1000, 'gamma': 0.001, 'kernel': 'rbf'}\n"
          ]
        }
      ]
    },
    {
      "cell_type": "code",
      "source": [
        "grid.best_estimator_"
      ],
      "metadata": {
        "colab": {
          "base_uri": "https://localhost:8080/"
        },
        "id": "tY-u4Dxea4yN",
        "outputId": "12262a12-6ace-4927-a5db-354aeb5d3b46"
      },
      "execution_count": 45,
      "outputs": [
        {
          "output_type": "execute_result",
          "data": {
            "text/plain": [
              "SVC(C=1000, gamma=0.001)"
            ]
          },
          "metadata": {},
          "execution_count": 45
        }
      ]
    },
    {
      "cell_type": "code",
      "source": [
        "grid_predictions = grid.predict(scaled_X_test)"
      ],
      "metadata": {
        "id": "qbSnWoMLbsrl"
      },
      "execution_count": 46,
      "outputs": []
    },
    {
      "cell_type": "code",
      "source": [
        "print(confusion_matrix(y_test,grid_predictions))"
      ],
      "metadata": {
        "colab": {
          "base_uri": "https://localhost:8080/"
        },
        "id": "4jn_FiM4bv5N",
        "outputId": "954227b4-1d02-41de-d25e-dce96daf8157"
      },
      "execution_count": 47,
      "outputs": [
        {
          "output_type": "stream",
          "name": "stdout",
          "text": [
            "[[80 15]\n",
            " [10 95]]\n"
          ]
        }
      ]
    },
    {
      "cell_type": "code",
      "source": [
        "print(classification_report(y_test,grid_predictions))"
      ],
      "metadata": {
        "colab": {
          "base_uri": "https://localhost:8080/"
        },
        "id": "ZAlHS549bxJp",
        "outputId": "b69f74b5-24c1-4116-fbda-d406e36d92f9"
      },
      "execution_count": 48,
      "outputs": [
        {
          "output_type": "stream",
          "name": "stdout",
          "text": [
            "              precision    recall  f1-score   support\n",
            "\n",
            "           0       0.89      0.84      0.86        95\n",
            "           1       0.86      0.90      0.88       105\n",
            "\n",
            "    accuracy                           0.88       200\n",
            "   macro avg       0.88      0.87      0.87       200\n",
            "weighted avg       0.88      0.88      0.87       200\n",
            "\n"
          ]
        }
      ]
    },
    {
      "cell_type": "markdown",
      "source": [
        "# **Random Forest**"
      ],
      "metadata": {
        "id": "WFTepB0JggEI"
      }
    },
    {
      "cell_type": "code",
      "source": [
        "# x = df.drop(['gender'], axis = 1)\n",
        "# y = df['gender']"
      ],
      "metadata": {
        "id": "OH9a6T5OjHgA"
      },
      "execution_count": 49,
      "outputs": []
    },
    {
      "cell_type": "code",
      "source": [
        "# X_train, X_test, y_train, y_test = train_test_split(x, y, test_size=0.20)"
      ],
      "metadata": {
        "id": "7SL6Nu9AjMBM"
      },
      "execution_count": 50,
      "outputs": []
    },
    {
      "cell_type": "code",
      "source": [
        "clf_randomForest = RandomForestClassifier(n_estimators=1000, max_features=3, verbose=True)\n",
        "clf_randomForest.fit(X_train, y_train)"
      ],
      "metadata": {
        "colab": {
          "base_uri": "https://localhost:8080/"
        },
        "id": "pt-1K5hgg1Ok",
        "outputId": "981749bf-98f8-45af-d719-7ce3bdaefe06"
      },
      "execution_count": 51,
      "outputs": [
        {
          "output_type": "stream",
          "name": "stderr",
          "text": [
            "[Parallel(n_jobs=1)]: Using backend SequentialBackend with 1 concurrent workers.\n",
            "[Parallel(n_jobs=1)]: Done 1000 out of 1000 | elapsed:    5.3s finished\n"
          ]
        },
        {
          "output_type": "execute_result",
          "data": {
            "text/plain": [
              "RandomForestClassifier(max_features=3, n_estimators=1000, verbose=True)"
            ]
          },
          "metadata": {},
          "execution_count": 51
        }
      ]
    },
    {
      "cell_type": "code",
      "source": [
        "y_pred_RandomForest = clf_randomForest.predict(X_test)"
      ],
      "metadata": {
        "colab": {
          "base_uri": "https://localhost:8080/"
        },
        "id": "WS3QHKlrhF6T",
        "outputId": "1be1afd1-5712-4681-8638-88256cc2cd3e"
      },
      "execution_count": 52,
      "outputs": [
        {
          "output_type": "stream",
          "name": "stderr",
          "text": [
            "[Parallel(n_jobs=1)]: Using backend SequentialBackend with 1 concurrent workers.\n",
            "[Parallel(n_jobs=1)]: Done 1000 out of 1000 | elapsed:    0.5s finished\n"
          ]
        }
      ]
    },
    {
      "cell_type": "code",
      "source": [
        "print(classification_report(y_test, y_pred_RandomForest))"
      ],
      "metadata": {
        "colab": {
          "base_uri": "https://localhost:8080/"
        },
        "id": "z_6pI_lXhM-j",
        "outputId": "5d2f3668-80f1-4501-a048-16a6902298e8"
      },
      "execution_count": 53,
      "outputs": [
        {
          "output_type": "stream",
          "name": "stdout",
          "text": [
            "              precision    recall  f1-score   support\n",
            "\n",
            "           0       0.89      0.83      0.86        95\n",
            "           1       0.86      0.90      0.88       105\n",
            "\n",
            "    accuracy                           0.87       200\n",
            "   macro avg       0.87      0.87      0.87       200\n",
            "weighted avg       0.87      0.87      0.87       200\n",
            "\n"
          ]
        }
      ]
    },
    {
      "cell_type": "code",
      "source": [
        "print(confusion_matrix(y_test, y_pred_RandomForest))"
      ],
      "metadata": {
        "colab": {
          "base_uri": "https://localhost:8080/"
        },
        "id": "YT0nL_C_hjcD",
        "outputId": "4c52523e-15d6-4b90-cbe4-fcaff4091778"
      },
      "execution_count": 54,
      "outputs": [
        {
          "output_type": "stream",
          "name": "stdout",
          "text": [
            "[[79 16]\n",
            " [10 95]]\n"
          ]
        }
      ]
    },
    {
      "cell_type": "markdown",
      "source": [
        "# **AdaBoost**"
      ],
      "metadata": {
        "id": "t3hVhHZlkv10"
      }
    },
    {
      "cell_type": "code",
      "source": [
        "# x = df.drop(['gender'], axis = 1)\n",
        "# y = df['gender']"
      ],
      "metadata": {
        "id": "t-X2GLb9k0H7"
      },
      "execution_count": 55,
      "outputs": []
    },
    {
      "cell_type": "code",
      "source": [
        "# X_train, X_test, y_train, y_test = train_test_split(x, y, test_size=0.20)"
      ],
      "metadata": {
        "id": "XYZ2gYCqk2no"
      },
      "execution_count": 56,
      "outputs": []
    },
    {
      "cell_type": "code",
      "source": [
        "clf_AdaBoost = AdaBoostClassifier(n_estimators=100, random_state=0)\n",
        "clf_AdaBoost.fit(X_train, y_train)"
      ],
      "metadata": {
        "colab": {
          "base_uri": "https://localhost:8080/"
        },
        "id": "JJ_3n2Ltk254",
        "outputId": "ffa0b3cf-1a1c-465e-9c5f-8d16adabdd69"
      },
      "execution_count": 57,
      "outputs": [
        {
          "output_type": "execute_result",
          "data": {
            "text/plain": [
              "AdaBoostClassifier(n_estimators=100, random_state=0)"
            ]
          },
          "metadata": {},
          "execution_count": 57
        }
      ]
    },
    {
      "cell_type": "code",
      "source": [
        "y_pred_AdaBoost = clf_AdaBoost.predict(X_test)"
      ],
      "metadata": {
        "id": "5v9ptottmDQw"
      },
      "execution_count": 58,
      "outputs": []
    },
    {
      "cell_type": "code",
      "source": [
        "print(classification_report(y_test, y_pred_AdaBoost))"
      ],
      "metadata": {
        "colab": {
          "base_uri": "https://localhost:8080/"
        },
        "id": "lbhvZfU_mZGs",
        "outputId": "5af66a05-edaa-4d0f-b825-d410c8cf365e"
      },
      "execution_count": 59,
      "outputs": [
        {
          "output_type": "stream",
          "name": "stdout",
          "text": [
            "              precision    recall  f1-score   support\n",
            "\n",
            "           0       0.89      0.86      0.88        95\n",
            "           1       0.88      0.90      0.89       105\n",
            "\n",
            "    accuracy                           0.89       200\n",
            "   macro avg       0.89      0.88      0.88       200\n",
            "weighted avg       0.89      0.89      0.88       200\n",
            "\n"
          ]
        }
      ]
    },
    {
      "cell_type": "code",
      "source": [
        "print(confusion_matrix(y_test, y_pred_AdaBoost))"
      ],
      "metadata": {
        "colab": {
          "base_uri": "https://localhost:8080/"
        },
        "id": "hZK2pXScmcaI",
        "outputId": "e48d884c-6a20-4fa1-c79a-5ce05684ddc6"
      },
      "execution_count": 60,
      "outputs": [
        {
          "output_type": "stream",
          "name": "stdout",
          "text": [
            "[[82 13]\n",
            " [10 95]]\n"
          ]
        }
      ]
    },
    {
      "cell_type": "code",
      "source": [],
      "metadata": {
        "id": "n4KPJueZm54g"
      },
      "execution_count": 60,
      "outputs": []
    }
  ]
}