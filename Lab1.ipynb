{
  "nbformat": 4,
  "nbformat_minor": 0,
  "metadata": {
    "colab": {
      "provenance": [],
      "collapsed_sections": []
    },
    "kernelspec": {
      "name": "python3",
      "display_name": "Python 3"
    },
    "language_info": {
      "name": "python"
    }
  },
  "cells": [
    {
      "cell_type": "code",
      "execution_count": 1,
      "metadata": {
        "id": "7nDkTM6x10Em"
      },
      "outputs": [],
      "source": [
        "import pandas as pd\n",
        "import seaborn as sns\n",
        "import matplotlib.pyplot as plt\n",
        "import numpy as np\n",
        "%matplotlib inline\n",
        "\n",
        "from sklearn.preprocessing import LabelEncoder, StandardScaler\n",
        "from sklearn.neighbors import KNeighborsClassifier\n",
        "from sklearn.metrics import classification_report,confusion_matrix, accuracy_score\n",
        "from sklearn.model_selection import train_test_split\n",
        "\n",
        "from sklearn.tree import DecisionTreeClassifier, plot_tree\n",
        "\n",
        "from sklearn.svm import SVC\n",
        "\n",
        "from sklearn.metrics import classification_report,confusion_matrix\n",
        "from sklearn.model_selection import GridSearchCV\n",
        "\n",
        "from sklearn.ensemble import RandomForestClassifier\n",
        "from sklearn.datasets import make_classification\n",
        "\n",
        "from sklearn.ensemble import AdaBoostClassifier\n"
      ]
    },
    {
      "cell_type": "code",
      "source": [
        "df = pd.read_csv('exams.csv')"
      ],
      "metadata": {
        "id": "2gvzT0-B2acK"
      },
      "execution_count": 2,
      "outputs": []
    },
    {
      "cell_type": "code",
      "source": [
        "df.columns\n"
      ],
      "metadata": {
        "colab": {
          "base_uri": "https://localhost:8080/"
        },
        "id": "Nc7igv9D2e8g",
        "outputId": "6ae0d099-7722-44e2-b6a3-642f6450fe7a"
      },
      "execution_count": 3,
      "outputs": [
        {
          "output_type": "execute_result",
          "data": {
            "text/plain": [
              "Index(['gender', 'race/ethnicity', 'parental level of education', 'lunch',\n",
              "       'test preparation course', 'math score', 'reading score',\n",
              "       'writing score'],\n",
              "      dtype='object')"
            ]
          },
          "metadata": {},
          "execution_count": 3
        }
      ]
    },
    {
      "cell_type": "code",
      "source": [
        "df.shape[0] #shape[1] - columns"
      ],
      "metadata": {
        "colab": {
          "base_uri": "https://localhost:8080/"
        },
        "id": "_oAj-09n2gFw",
        "outputId": "e611e01f-ec24-4b8b-a7fc-3828c3d64d16"
      },
      "execution_count": 4,
      "outputs": [
        {
          "output_type": "execute_result",
          "data": {
            "text/plain": [
              "1000"
            ]
          },
          "metadata": {},
          "execution_count": 4
        }
      ]
    },
    {
      "cell_type": "code",
      "source": [
        "pd.Series([np.nan]).sum() # gap"
      ],
      "metadata": {
        "colab": {
          "base_uri": "https://localhost:8080/"
        },
        "id": "3qjrpZx53OVP",
        "outputId": "aeb29c9a-8ee6-4b18-f47d-55e63bbf468b"
      },
      "execution_count": 5,
      "outputs": [
        {
          "output_type": "execute_result",
          "data": {
            "text/plain": [
              "0.0"
            ]
          },
          "metadata": {},
          "execution_count": 5
        }
      ]
    },
    {
      "cell_type": "code",
      "source": [
        "df.isnull().sum()"
      ],
      "metadata": {
        "colab": {
          "base_uri": "https://localhost:8080/"
        },
        "id": "CRDtVtsxDQxJ",
        "outputId": "408877f9-09fe-433b-f6ec-8951db04f483"
      },
      "execution_count": 6,
      "outputs": [
        {
          "output_type": "execute_result",
          "data": {
            "text/plain": [
              "gender                         0\n",
              "race/ethnicity                 0\n",
              "parental level of education    0\n",
              "lunch                          0\n",
              "test preparation course        0\n",
              "math score                     0\n",
              "reading score                  0\n",
              "writing score                  0\n",
              "dtype: int64"
            ]
          },
          "metadata": {},
          "execution_count": 6
        }
      ]
    },
    {
      "cell_type": "code",
      "source": [
        "df.info()"
      ],
      "metadata": {
        "colab": {
          "base_uri": "https://localhost:8080/"
        },
        "id": "myUWwRUKHTFk",
        "outputId": "7944d6ac-994b-4cdc-e5cc-e323953d0a6c"
      },
      "execution_count": 7,
      "outputs": [
        {
          "output_type": "stream",
          "name": "stdout",
          "text": [
            "<class 'pandas.core.frame.DataFrame'>\n",
            "RangeIndex: 1000 entries, 0 to 999\n",
            "Data columns (total 8 columns):\n",
            " #   Column                       Non-Null Count  Dtype \n",
            "---  ------                       --------------  ----- \n",
            " 0   gender                       1000 non-null   object\n",
            " 1   race/ethnicity               1000 non-null   object\n",
            " 2   parental level of education  1000 non-null   object\n",
            " 3   lunch                        1000 non-null   object\n",
            " 4   test preparation course      1000 non-null   object\n",
            " 5   math score                   1000 non-null   int64 \n",
            " 6   reading score                1000 non-null   int64 \n",
            " 7   writing score                1000 non-null   int64 \n",
            "dtypes: int64(3), object(5)\n",
            "memory usage: 62.6+ KB\n"
          ]
        }
      ]
    },
    {
      "cell_type": "code",
      "source": [
        "# df = df[['math score', 'reading score', 'writing score']]"
      ],
      "metadata": {
        "id": "5h5EF2XR7RsI"
      },
      "execution_count": 8,
      "outputs": []
    },
    {
      "cell_type": "code",
      "source": [
        "df = df[['gender', 'lunch', 'test preparation course', 'math score', 'reading score', 'writing score']]"
      ],
      "metadata": {
        "id": "c10_KAVVEgEN"
      },
      "execution_count": 9,
      "outputs": []
    },
    {
      "cell_type": "code",
      "source": [
        "# sns.heatmap(df.corr(), annot = True, vmin=0, vmax=1, center= 0, cmap= 'coolwarm', linewidths=3, linecolor='black')"
      ],
      "metadata": {
        "id": "-y1qd0DX763X"
      },
      "execution_count": 10,
      "outputs": []
    },
    {
      "cell_type": "code",
      "source": [
        "def replacemet_gender(information):\n",
        "    if information == 'male':\n",
        "        return 1        \n",
        "    else:        #elif emotioin == 'female': return 0\n",
        "        return 0\n",
        "    \n",
        "df['gender'] = df['gender'].apply(lambda x:replacemet_gender(x))"
      ],
      "metadata": {
        "id": "ot2GtmA48Hz2"
      },
      "execution_count": 11,
      "outputs": []
    },
    {
      "cell_type": "code",
      "source": [
        "def replacemet_course(information):\n",
        "    if information == 'completed':\n",
        "        return 1        \n",
        "    else:        #elif emotioin == 'none': return 0\n",
        "        return 0\n",
        "\n",
        "df['test preparation course'] = df['test preparation course'].apply(lambda x:replacemet_course(x))"
      ],
      "metadata": {
        "id": "ADMNFHNqDN2d"
      },
      "execution_count": 12,
      "outputs": []
    },
    {
      "cell_type": "code",
      "source": [
        "def replacemet_lunch(information):\n",
        "    if information == 'standard':\n",
        "        return 1        \n",
        "    else:        #elif emotioin == 'none': return 0\n",
        "        return 0\n",
        "\n",
        "df['lunch'] = df['lunch'].apply(lambda x:replacemet_lunch(x))"
      ],
      "metadata": {
        "id": "Y9jFvblXEyD4"
      },
      "execution_count": 13,
      "outputs": []
    },
    {
      "cell_type": "code",
      "source": [
        "sns.heatmap(df.corr(), annot = True, vmin=0, vmax=1, center= 0, cmap= 'coolwarm', linewidths=3, linecolor='black')"
      ],
      "metadata": {
        "colab": {
          "base_uri": "https://localhost:8080/",
          "height": 393
        },
        "id": "TAF44IetGI8y",
        "outputId": "0805b949-3725-4de3-aceb-f9d053f4bff5"
      },
      "execution_count": 14,
      "outputs": [
        {
          "output_type": "execute_result",
          "data": {
            "text/plain": [
              "<matplotlib.axes._subplots.AxesSubplot at 0x7f84baca47d0>"
            ]
          },
          "metadata": {},
          "execution_count": 14
        },
        {
          "output_type": "display_data",
          "data": {
            "text/plain": [
              "<Figure size 432x288 with 2 Axes>"
            ],
            "image/png": "[encoded data removed]"
          },
          "metadata": {
            "needs_background": "light"
          }
        }
      ]
    },
    {
      "cell_type": "code",
      "source": [
        "df.info()"
      ],
      "metadata": {
        "colab": {
          "base_uri": "https://localhost:8080/"
        },
        "id": "op4iVxrgGLqF",
        "outputId": "045ee54b-1751-4c88-d2c5-edec56a3cb10"
      },
      "execution_count": 15,
      "outputs": [
        {
          "output_type": "stream",
          "name": "stdout",
          "text": [
            "<class 'pandas.core.frame.DataFrame'>\n",
            "RangeIndex: 1000 entries, 0 to 999\n",
            "Data columns (total 6 columns):\n",
            " #   Column                   Non-Null Count  Dtype\n",
            "---  ------                   --------------  -----\n",
            " 0   gender                   1000 non-null   int64\n",
            " 1   lunch                    1000 non-null   int64\n",
            " 2   test preparation course  1000 non-null   int64\n",
            " 3   math score               1000 non-null   int64\n",
            " 4   reading score            1000 non-null   int64\n",
            " 5   writing score            1000 non-null   int64\n",
            "dtypes: int64(6)\n",
            "memory usage: 47.0 KB\n"
          ]
        }
      ]
    },
    {
      "cell_type": "markdown",
      "source": [
        "# ***KNN***"
      ],
      "metadata": {
        "id": "NEWY3drpPkcw"
      }
    },
    {
      "cell_type": "code",
      "source": [
        "x = df.drop(['gender'], axis=1)\n",
        "y = df['gender']\n",
        "X_train, X_test, y_train, y_test = train_test_split(x, y, test_size=0.20)"
      ],
      "metadata": {
        "id": "2ZBCg59AHDWO"
      },
      "execution_count": 16,
      "outputs": []
    },
    {
      "cell_type": "code",
      "source": [
        "scaler = StandardScaler()"
      ],
      "metadata": {
        "id": "6On8j2hCFKqP"
      },
      "execution_count": 17,
      "outputs": []
    },
    {
      "cell_type": "code",
      "source": [
        "scaler.fit(X_train)"
      ],
      "metadata": {
        "colab": {
          "base_uri": "https://localhost:8080/"
        },
        "id": "V2f3PktiHFoO",
        "outputId": "31ae2f31-9d09-45aa-b67b-92eeca179c8a"
      },
      "execution_count": 18,
      "outputs": [
        {
          "output_type": "execute_result",
          "data": {
            "text/plain": [
              "StandardScaler()"
            ]
          },
          "metadata": {},
          "execution_count": 18
        }
      ]
    },
    {
      "cell_type": "code",
      "source": [
        "scaled_X_train = scaler.transform(X_train) \n",
        "scaled_X_test = scaler.transform(X_test) "
      ],
      "metadata": {
        "id": "xjP5NCxEHRKu"
      },
      "execution_count": 19,
      "outputs": []
    },
    {
      "cell_type": "code",
      "source": [
        "knn = KNeighborsClassifier(n_neighbors=5)"
      ],
      "metadata": {
        "id": "gNbLL9GIIFCP"
      },
      "execution_count": 20,
      "outputs": []
    },
    {
      "cell_type": "code",
      "source": [
        "knn.fit(scaled_X_train, y_train)"
      ],
      "metadata": {
        "colab": {
          "base_uri": "https://localhost:8080/"
        },
        "id": "n_Gd_IA6IIvt",
        "outputId": "a82b0cae-cce1-4570-9041-092648297648"
      },
      "execution_count": 21,
      "outputs": [
        {
          "output_type": "execute_result",
          "data": {
            "text/plain": [
              "KNeighborsClassifier()"
            ]
          },
          "metadata": {},
          "execution_count": 21
        }
      ]
    },
    {
      "cell_type": "code",
      "source": [
        "y_pred_KNN = knn.predict(scaled_X_test)"
      ],
      "metadata": {
        "id": "3_DVsqJ_IJVm"
      },
      "execution_count": 22,
      "outputs": []
    },
    {
      "cell_type": "code",
      "source": [
        "print(confusion_matrix(y_test, y_pred_KNN))"
      ],
      "metadata": {
        "colab": {
          "base_uri": "https://localhost:8080/"
        },
        "id": "NTEqzxGmIQKd",
        "outputId": "ed05bed2-0ed8-4762-8374-c69f5fce09cf"
      },
      "execution_count": 23,
      "outputs": [
        {
          "output_type": "stream",
          "name": "stdout",
          "text": [
            "[[89 10]\n",
            " [16 85]]\n"
          ]
        }
      ]
    },
    {
      "cell_type": "code",
      "source": [
        "print(classification_report(y_test, y_pred_KNN))"
      ],
      "metadata": {
        "colab": {
          "base_uri": "https://localhost:8080/"
        },
        "id": "2aCbPqD7ISIt",
        "outputId": "159f468d-53c4-4aa9-be74-fe529d5786bf"
      },
      "execution_count": 24,
      "outputs": [
        {
          "output_type": "stream",
          "name": "stdout",
          "text": [
            "              precision    recall  f1-score   support\n",
            "\n",
            "           0       0.85      0.90      0.87        99\n",
            "           1       0.89      0.84      0.87       101\n",
            "\n",
            "    accuracy                           0.87       200\n",
            "   macro avg       0.87      0.87      0.87       200\n",
            "weighted avg       0.87      0.87      0.87       200\n",
            "\n"
          ]
        }
      ]
    },
    {
      "cell_type": "code",
      "source": [
        "print(accuracy_score(y_test, y_pred_KNN))"
      ],
      "metadata": {
        "colab": {
          "base_uri": "https://localhost:8080/"
        },
        "id": "T7cCH-8uIVFl",
        "outputId": "0a984edd-e9c5-41ec-a931-87c9d41290ff"
      },
      "execution_count": 25,
      "outputs": [
        {
          "output_type": "stream",
          "name": "stdout",
          "text": [
            "0.87\n"
          ]
        }
      ]
    },
    {
      "cell_type": "code",
      "source": [
        "error_rate = []\n",
        "\n",
        "for i in range(1,50):\n",
        "    knn = KNeighborsClassifier(n_neighbors=i)\n",
        "    knn.fit(scaled_X_train,y_train)\n",
        "    pred_i = knn.predict(scaled_X_test)\n",
        "    error_rate.append(np.mean(pred_i != y_test))"
      ],
      "metadata": {
        "id": "X0k5Va4YIfhd"
      },
      "execution_count": 26,
      "outputs": []
    },
    {
      "cell_type": "code",
      "source": [
        "plt.figure(figsize=(10,6))\n",
        "plt.plot(range(1,50), error_rate, marker='o', markersize=10)\n",
        "plt.title('Error Rate vs. K Value')\n",
        "plt.xlabel('K')\n",
        "plt.ylabel('Error Rate')\n",
        "plt.grid()"
      ],
      "metadata": {
        "colab": {
          "base_uri": "https://localhost:8080/",
          "height": 404
        },
        "id": "rQ51PeHpOKHw",
        "outputId": "4e5725ce-a181-4bf4-9a3c-2f64f677042a"
      },
      "execution_count": 27,
      "outputs": [
        {
          "output_type": "display_data",
          "data": {
            "text/plain": [
              "<Figure size 720x432 with 1 Axes>"
            ],
            "image/png": "[encoded data removed]"
          },
          "metadata": {
            "needs_background": "light"
          }
        }
      ]
    },
    {
      "cell_type": "code",
      "source": [
        "knn = KNeighborsClassifier(n_neighbors=11) # Optimal n_neighbors = [11, 12]\n",
        "\n",
        "knn.fit(scaled_X_train,y_train)\n",
        "y_pred_KNN_best = knn.predict(scaled_X_test)\n",
        "\n",
        "print(confusion_matrix(y_test, y_pred_KNN_best))\n",
        "print()\n",
        "print(classification_report(y_test, y_pred_KNN_best))"
      ],
      "metadata": {
        "colab": {
          "base_uri": "https://localhost:8080/"
        },
        "id": "jwhCbhDSIo9F",
        "outputId": "86c3f45d-6632-4da3-d3e0-d3ac24296fc0"
      },
      "execution_count": 28,
      "outputs": [
        {
          "output_type": "stream",
          "name": "stdout",
          "text": [
            "[[88 11]\n",
            " [17 84]]\n",
            "\n",
            "              precision    recall  f1-score   support\n",
            "\n",
            "           0       0.84      0.89      0.86        99\n",
            "           1       0.88      0.83      0.86       101\n",
            "\n",
            "    accuracy                           0.86       200\n",
            "   macro avg       0.86      0.86      0.86       200\n",
            "weighted avg       0.86      0.86      0.86       200\n",
            "\n"
          ]
        }
      ]
    },
    {
      "cell_type": "markdown",
      "source": [
        "# **Decision Tree**"
      ],
      "metadata": {
        "id": "SCeNHjLIPajx"
      }
    },
    {
      "cell_type": "code",
      "source": [
        "# x = df.drop(['gender'], axis = 1)\n",
        "# y = df['gender']"
      ],
      "metadata": {
        "id": "apFPhPCcPfNt"
      },
      "execution_count": 29,
      "outputs": []
    },
    {
      "cell_type": "code",
      "source": [
        "# X_train, X_test, y_train, y_test = train_test_split(x, y, test_size=0.20)"
      ],
      "metadata": {
        "id": "9vYm3WADQFX8"
      },
      "execution_count": 30,
      "outputs": []
    },
    {
      "cell_type": "code",
      "source": [
        "params = {\n",
        "    'criterion':  ['gini', 'entropy'],\n",
        "    'max_depth':  [None, 2, 4, 6, 8, 10],\n",
        "    'max_features': [None, 'sqrt', 'log2', 0.2, 0.4, 0.6, 0.8],\n",
        "    'splitter': ['best', 'random']\n",
        "}\n",
        "\n",
        "clf_DecisionTree = GridSearchCV(\n",
        "    estimator=DecisionTreeClassifier(),\n",
        "    param_grid=params,\n",
        "    cv=5,\n",
        "    n_jobs=5,\n",
        "    verbose=1,\n",
        ")\n",
        "\n",
        "clf_DecisionTree.fit(X_train, y_train)\n",
        "print(clf_DecisionTree.best_params_)"
      ],
      "metadata": {
        "colab": {
          "base_uri": "https://localhost:8080/"
        },
        "id": "ZTct9YzwUZAN",
        "outputId": "e84834ea-e593-4d95-cecd-e6cf0a0a75e8"
      },
      "execution_count": 31,
      "outputs": [
        {
          "output_type": "stream",
          "name": "stdout",
          "text": [
            "Fitting 5 folds for each of 168 candidates, totalling 840 fits\n",
            "{'criterion': 'entropy', 'max_depth': 8, 'max_features': 0.8, 'splitter': 'best'}\n"
          ]
        }
      ]
    },
    {
      "cell_type": "code",
      "source": [
        "clf_DecisionTree_best = DecisionTreeClassifier(criterion='entropy', max_depth=8, max_features=None, splitter='best')\n",
        "clf_DecisionTree_best.fit(X_train, y_train)\n",
        "y_pred_DecisionTree = clf_DecisionTree_best.predict(X_test)"
      ],
      "metadata": {
        "id": "ksOhlwIAQ_X0"
      },
      "execution_count": 32,
      "outputs": []
    },
    {
      "cell_type": "code",
      "source": [
        "print(classification_report(y_test, y_pred_DecisionTree))"
      ],
      "metadata": {
        "colab": {
          "base_uri": "https://localhost:8080/"
        },
        "id": "QfklGaugQGdi",
        "outputId": "580222bc-683c-4fdd-b79b-50135d35c814"
      },
      "execution_count": 33,
      "outputs": [
        {
          "output_type": "stream",
          "name": "stdout",
          "text": [
            "              precision    recall  f1-score   support\n",
            "\n",
            "           0       0.78      0.84      0.81        99\n",
            "           1       0.83      0.77      0.80       101\n",
            "\n",
            "    accuracy                           0.81       200\n",
            "   macro avg       0.81      0.81      0.80       200\n",
            "weighted avg       0.81      0.81      0.80       200\n",
            "\n"
          ]
        }
      ]
    },
    {
      "cell_type": "code",
      "source": [
        "print(confusion_matrix(y_test, y_pred_DecisionTree))"
      ],
      "metadata": {
        "colab": {
          "base_uri": "https://localhost:8080/"
        },
        "id": "E-RahZgFQf8C",
        "outputId": "534a987b-f1f3-4093-cca5-070894f3fcae"
      },
      "execution_count": 34,
      "outputs": [
        {
          "output_type": "stream",
          "name": "stdout",
          "text": [
            "[[83 16]\n",
            " [23 78]]\n"
          ]
        }
      ]
    },
    {
      "cell_type": "code",
      "source": [
        "df.columns"
      ],
      "metadata": {
        "colab": {
          "base_uri": "https://localhost:8080/"
        },
        "id": "gkMKjKgBRgZE",
        "outputId": "9249c8d1-d373-496e-9d21-01903d24ffb9"
      },
      "execution_count": 35,
      "outputs": [
        {
          "output_type": "execute_result",
          "data": {
            "text/plain": [
              "Index(['gender', 'lunch', 'test preparation course', 'math score',\n",
              "       'reading score', 'writing score'],\n",
              "      dtype='object')"
            ]
          },
          "metadata": {},
          "execution_count": 35
        }
      ]
    },
    {
      "cell_type": "code",
      "source": [
        "# plt.figure(figsize = (50, 50))\n",
        "# plot_tree(model, feature_names = ['lunch', 'test preparation course', 'math score',\n",
        "#        'reading score', 'writing score'], \n",
        "#           class_names = ['0', '1'], filled = True)\n",
        "# plt.show()"
      ],
      "metadata": {
        "id": "3n3cWxUbRN-a"
      },
      "execution_count": 36,
      "outputs": []
    },
    {
      "cell_type": "markdown",
      "source": [
        "# **SMV**"
      ],
      "metadata": {
        "id": "LSTczeejX1rD"
      }
    },
    {
      "cell_type": "code",
      "source": [
        "# x = df.drop(['gender'], axis = 1)\n",
        "# y = df['gender']"
      ],
      "metadata": {
        "id": "QndrNc9-YH7T"
      },
      "execution_count": 37,
      "outputs": []
    },
    {
      "cell_type": "code",
      "source": [
        "# X_train, X_test, y_train, y_test = train_test_split(x, y, test_size=0.20)"
      ],
      "metadata": {
        "id": "Upb70TROYIm_"
      },
      "execution_count": 38,
      "outputs": []
    },
    {
      "cell_type": "code",
      "source": [
        "scaler = StandardScaler()\n",
        "scaler.fit(X_train)\n",
        "scaled_X_train = scaler.transform(X_train) \n",
        "scaled_X_test = scaler.transform(X_test)"
      ],
      "metadata": {
        "id": "kctWmBiXYy8O"
      },
      "execution_count": 39,
      "outputs": []
    },
    {
      "cell_type": "code",
      "source": [
        "scaled_X_test"
      ],
      "metadata": {
        "colab": {
          "base_uri": "https://localhost:8080/"
        },
        "id": "xG16F2-YZIgW",
        "outputId": "945404d5-0b92-4483-9acc-9952cbae40cb"
      },
      "execution_count": 40,
      "outputs": [
        {
          "output_type": "execute_result",
          "data": {
            "text/plain": [
              "array([[ 0.71774056, -0.7257531 ,  1.35145275,  1.64484819,  1.2999374 ],\n",
              "       [-1.39326109, -0.7257531 ,  0.62870682, -0.0545507 , -0.10704238],\n",
              "       [-1.39326109,  1.37787907,  0.76011517,  1.37294437,  1.42784466],\n",
              "       [ 0.71774056,  1.37787907,  0.30018595,  1.23699246,  1.55575191],\n",
              "       [-1.39326109, -0.7257531 , -0.02833493, -0.80228622, -0.93843953],\n",
              "       [ 0.71774056,  1.37787907,  1.54856527,  1.37294437,  1.87552004],\n",
              "       [-1.39326109, -0.7257531 , -0.29115162, -1.7539496 , -1.45006854],\n",
              "       [ 0.71774056, -0.7257531 , -0.75108085, -1.00621409, -0.8744859 ],\n",
              "       [-1.39326109,  1.37787907,  0.56300265,  0.35330503,  0.21272575],\n",
              "       [ 0.71774056, -0.7257531 ,  0.62870682,  0.96508863,  0.72435476],\n",
              "       [ 0.71774056,  1.37787907, -0.55396832, -0.87026218, -0.74657865],\n",
              "       [-1.39326109, -0.7257531 , -2.45938939, -2.09382938, -2.60123382],\n",
              "       [ 0.71774056,  1.37787907, -0.0940391 ,  0.96508863,  0.91621564],\n",
              "       [-1.39326109,  1.37787907,  0.49729847,  1.84877606,  1.74761279],\n",
              "       [-1.39326109, -0.7257531 ,  0.82581935, -0.25847857, -0.55471777],\n",
              "       [-1.39326109,  1.37787907,  1.08863605, -0.39443048, -0.29890326],\n",
              "       [ 0.71774056, -0.7257531 ,  1.02293187,  1.7808001 ,  1.81156642],\n",
              "       [ 0.71774056,  1.37787907,  1.28574857,  1.57687224,  1.61970554],\n",
              "       [ 0.71774056, -0.7257531 ,  1.02293187,  0.01342525,  0.27667938],\n",
              "       [ 0.71774056, -0.7257531 , -0.55396832, -1.27811791, -1.32216129],\n",
              "       [ 0.71774056, -0.7257531 ,  1.02293187,  0.96508863,  1.10807652],\n",
              "       [ 0.71774056, -0.7257531 ,  1.35145275,  1.1690165 ,  1.0441229 ],\n",
              "       [ 0.71774056,  1.37787907, -0.15974328, -1.07419004, -1.19425403],\n",
              "       [ 0.71774056, -0.7257531 ,  2.07419867,  0.82913672,  0.59644751],\n",
              "       [ 0.71774056, -0.7257531 ,  0.10307342, -0.59835835, -0.36285689],\n",
              "       [-1.39326109, -0.7257531 ,  0.76011517,  1.03306459,  0.59644751],\n",
              "       [ 0.71774056, -0.7257531 ,  0.49729847,  0.28532907, -0.04308876],\n",
              "       [ 0.71774056,  1.37787907,  0.56300265,  0.42128099,  0.98016927],\n",
              "       [ 0.71774056, -0.7257531 , -1.47382677, -0.25847857, -0.29890326],\n",
              "       [ 0.71774056, -0.7257531 , -0.22544745,  0.28532907, -0.10704238],\n",
              "       [-1.39326109,  1.37787907,  0.1687776 ,  1.03306459,  0.91621564],\n",
              "       [-1.39326109, -0.7257531 , -3.51065619, -2.22978129, -1.96169755],\n",
              "       [-1.39326109,  1.37787907, -1.6709393 , -1.142166  , -1.32216129],\n",
              "       [-1.39326109, -0.7257531 ,  0.36589012,  1.50889628,  0.85226202],\n",
              "       [-1.39326109, -0.7257531 , -0.81678502, -0.32645453, -0.23494964],\n",
              "       [ 0.71774056, -0.7257531 , -0.68537667, -0.32645453, -0.55471777],\n",
              "       [ 0.71774056,  1.37787907,  0.10307342,  0.08140121, -0.29890326],\n",
              "       [ 0.71774056, -0.7257531 , -1.73664347, -0.73431026, -0.8744859 ],\n",
              "       [ 0.71774056, -0.7257531 ,  2.20560702,  1.03306459,  1.2999374 ],\n",
              "       [-1.39326109,  1.37787907,  1.28574857,  1.50889628,  1.36389103],\n",
              "       [ 0.71774056, -0.7257531 ,  0.10307342,  0.35330503,  0.21272575],\n",
              "       [-1.39326109, -0.7257531 , -0.3568558 , -0.46240644, -0.8744859 ],\n",
              "       [ 0.71774056,  1.37787907,  0.10307342,  0.42128099,  0.340633  ],\n",
              "       [ 0.71774056, -0.7257531 ,  1.15434022,  1.23699246,  1.55575191],\n",
              "       [-1.39326109, -0.7257531 , -0.94819337, -0.73431026, -0.49076414],\n",
              "       [ 0.71774056, -0.7257531 , -0.42255997, -0.93823813, -1.38611491],\n",
              "       [ 0.71774056,  1.37787907,  1.54856527,  1.30496841,  1.0441229 ],\n",
              "       [-1.39326109, -0.7257531 , -1.73664347, -0.39443048, -0.74657865],\n",
              "       [ 0.71774056,  1.37787907,  0.89152352,  0.14937716,  0.02086487],\n",
              "       [ 0.71774056,  1.37787907,  1.54856527,  0.89711268,  1.2999374 ],\n",
              "       [-1.39326109, -0.7257531 , -1.53953095, -0.0545507 , -0.6186714 ],\n",
              "       [ 0.71774056,  1.37787907,  1.41715692,  1.23699246,  1.68365916],\n",
              "       [ 0.71774056, -0.7257531 , -0.0940391 , -0.0545507 , -0.23494964],\n",
              "       [ 0.71774056, -0.7257531 ,  0.76011517,  0.21735312,  0.27667938],\n",
              "       [-1.39326109, -0.7257531 , -1.933756  , -1.55002173, -1.57797579],\n",
              "       [-1.39326109, -0.7257531 , -0.68537667, -0.25847857, -0.74657865],\n",
              "       [-1.39326109, -0.7257531 , -1.4081226 , -1.55002173, -1.19425403],\n",
              "       [ 0.71774056, -0.7257531 , -1.1453059 , -0.93823813, -1.25820766],\n",
              "       [ 0.71774056, -0.7257531 ,  0.36589012,  1.03306459,  0.91621564],\n",
              "       [-1.39326109, -0.7257531 , -0.15974328,  0.08140121,  0.0848185 ],\n",
              "       [-1.39326109, -0.7257531 , -1.60523512, -1.95787747, -1.76983667],\n",
              "       [ 0.71774056, -0.7257531 , -0.22544745, -1.27811791, -1.19425403],\n",
              "       [ 0.71774056,  1.37787907,  0.694411  ,  1.23699246,  1.10807652],\n",
              "       [-1.39326109, -0.7257531 ,  0.36589012,  0.21735312, -0.17099601],\n",
              "       [-1.39326109,  1.37787907, -1.21101007,  0.14937716,  0.02086487],\n",
              "       [ 0.71774056, -0.7257531 ,  1.7456778 ,  2.12067988,  1.61970554],\n",
              "       [ 0.71774056, -0.7257531 ,  1.41715692, -0.25847857,  0.14877212],\n",
              "       [ 0.71774056,  1.37787907, -0.68537667, -0.0545507 ,  0.340633  ],\n",
              "       [ 0.71774056, -0.7257531 ,  0.56300265, -0.0545507 , -0.10704238],\n",
              "       [-1.39326109, -0.7257531 , -0.02833493,  0.42128099,  0.40458663],\n",
              "       [-1.39326109, -0.7257531 , -0.55396832, -0.32645453, -0.8744859 ],\n",
              "       [ 0.71774056, -0.7257531 ,  1.87708615,  2.05270393,  1.49179828],\n",
              "       [ 0.71774056,  1.37787907,  1.54856527,  1.7808001 ,  2.06738092],\n",
              "       [-1.39326109, -0.7257531 , -1.1453059 , -0.46240644, -0.49076414],\n",
              "       [ 0.71774056,  1.37787907,  1.81138197,  2.05270393,  2.06738092],\n",
              "       [-1.39326109, -0.7257531 , -0.02833493,  0.62520885,  0.98016927],\n",
              "       [ 0.71774056, -0.7257531 ,  0.03736925, -0.93823813, -0.93843953],\n",
              "       [ 0.71774056, -0.7257531 ,  0.1687776 , -0.73431026, -1.13030041],\n",
              "       [ 0.71774056,  1.37787907,  1.2200444 ,  0.96508863,  1.68365916],\n",
              "       [ 0.71774056, -0.7257531 ,  1.2200444 ,  1.10104055,  0.53249388],\n",
              "       [-1.39326109,  1.37787907, -0.8824892 ,  0.08140121,  0.0848185 ],\n",
              "       [ 0.71774056, -0.7257531 ,  0.694411  ,  0.76116077,  0.78830839],\n",
              "       [-1.39326109,  1.37787907, -0.3568558 ,  0.01342525,  0.02086487],\n",
              "       [-1.39326109, -0.7257531 , -0.22544745, -0.5303824 , -0.55471777],\n",
              "       [ 0.71774056,  1.37787907,  1.94279032,  1.7808001 ,  1.42784466],\n",
              "       [ 0.71774056, -0.7257531 ,  1.08863605,  1.10104055,  0.72435476],\n",
              "       [-1.39326109,  1.37787907, -1.53953095, -1.41406982, -0.93843953],\n",
              "       [ 0.71774056, -0.7257531 ,  0.62870682,  0.76116077,  0.85226202],\n",
              "       [ 0.71774056, -0.7257531 , -0.55396832, -0.0545507 , -0.36285689],\n",
              "       [ 0.71774056, -0.7257531 ,  0.89152352,  0.5572329 ,  0.27667938],\n",
              "       [ 0.71774056,  1.37787907,  1.61426945,  2.12067988,  2.06738092],\n",
              "       [ 0.71774056,  1.37787907, -0.6196725 , -0.0545507 ,  0.53249388],\n",
              "       [ 0.71774056, -0.7257531 ,  0.76011517,  0.01342525,  0.21272575],\n",
              "       [ 0.71774056, -0.7257531 , -1.27671425, -1.27811791, -1.32216129],\n",
              "       [ 0.71774056,  1.37787907,  1.67997362,  2.12067988,  1.87552004],\n",
              "       [ 0.71774056, -0.7257531 , -0.22544745, -0.12252666,  0.21272575],\n",
              "       [ 0.71774056, -0.7257531 ,  0.23448177,  0.62520885,  0.91621564],\n",
              "       [ 0.71774056, -0.7257531 , -1.01389755, -0.46240644, -0.23494964],\n",
              "       [ 0.71774056, -0.7257531 ,  0.4315943 ,  0.08140121, -0.17099601],\n",
              "       [ 0.71774056,  1.37787907,  0.56300265,  0.62520885,  0.72435476],\n",
              "       [-1.39326109, -0.7257531 , -2.13086852, -1.48204578, -1.45006854],\n",
              "       [-1.39326109, -0.7257531 ,  1.02293187,  1.30496841,  1.17203015],\n",
              "       [ 0.71774056,  1.37787907,  0.89152352, -0.19050262,  0.0848185 ],\n",
              "       [ 0.71774056, -0.7257531 , -1.73664347, -1.34609387, -1.32216129],\n",
              "       [-1.39326109, -0.7257531 , -1.07960172, -0.66633431, -0.8744859 ],\n",
              "       [-1.39326109, -0.7257531 , -0.8824892 , -0.32645453, -0.29890326],\n",
              "       [ 0.71774056, -0.7257531 , -1.1453059 , -0.87026218, -0.93843953],\n",
              "       [ 0.71774056,  1.37787907,  0.10307342, -0.39443048, -0.36285689],\n",
              "       [ 0.71774056, -0.7257531 ,  1.35145275,  0.76116077,  0.53249388],\n",
              "       [-1.39326109, -0.7257531 , -1.80234765, -2.50168512, -2.34541931],\n",
              "       [ 0.71774056, -0.7257531 ,  0.30018595,  0.5572329 ,  0.72435476],\n",
              "       [-1.39326109, -0.7257531 , -0.15974328,  0.01342525,  0.02086487],\n",
              "       [ 0.71774056,  1.37787907,  0.36589012,  0.21735312,  0.27667938],\n",
              "       [-1.39326109, -0.7257531 , -1.80234765, -1.34609387, -1.25820766],\n",
              "       [-1.39326109, -0.7257531 , -1.1453059 , -0.32645453, -0.68262502],\n",
              "       [ 0.71774056, -0.7257531 , -1.73664347, -1.55002173, -0.68262502],\n",
              "       [-1.39326109, -0.7257531 , -0.48826415,  0.08140121, -0.6186714 ],\n",
              "       [-1.39326109, -0.7257531 , -1.4081226 , -0.66633431, -0.74657865],\n",
              "       [-1.39326109, -0.7257531 , -1.53953095, -0.80228622, -1.13030041],\n",
              "       [ 0.71774056, -0.7257531 , -0.22544745,  0.01342525, -0.49076414],\n",
              "       [ 0.71774056, -0.7257531 , -0.81678502, -0.59835835, -0.17099601],\n",
              "       [ 0.71774056, -0.7257531 ,  1.4828611 ,  1.44092032,  0.98016927],\n",
              "       [-1.39326109, -0.7257531 , -0.6196725 ,  0.42128099,  0.14877212],\n",
              "       [ 0.71774056, -0.7257531 , -0.02833493, -0.32645453, -0.6186714 ],\n",
              "       [-1.39326109, -0.7257531 , -0.3568558 ,  0.35330503,  0.27667938],\n",
              "       [ 0.71774056, -0.7257531 , -0.29115162, -0.66633431, -0.29890326],\n",
              "       [ 0.71774056, -0.7257531 ,  1.15434022,  0.69318481,  0.40458663],\n",
              "       [ 0.71774056, -0.7257531 ,  0.694411  ,  1.03306459,  1.55575191],\n",
              "       [-1.39326109,  1.37787907,  0.30018595,  0.35330503,  0.02086487],\n",
              "       [ 0.71774056, -0.7257531 , -0.3568558 , -0.19050262, -0.29890326],\n",
              "       [-1.39326109, -0.7257531 ,  0.23448177,  1.03306459,  0.66040114],\n",
              "       [-1.39326109, -0.7257531 , -0.81678502, -1.41406982, -1.45006854],\n",
              "       [ 0.71774056, -0.7257531 , -0.29115162, -0.19050262, -0.23494964],\n",
              "       [-1.39326109,  1.37787907,  0.76011517,  1.44092032,  0.85226202],\n",
              "       [-1.39326109, -0.7257531 ,  0.62870682, -0.19050262,  0.02086487],\n",
              "       [ 0.71774056, -0.7257531 ,  1.81138197,  1.57687224,  1.10807652],\n",
              "       [ 0.71774056,  1.37787907,  0.1687776 ,  0.42128099,  0.40458663],\n",
              "       [-1.39326109, -0.7257531 , -0.75108085, -0.46240644, -1.19425403],\n",
              "       [ 0.71774056,  1.37787907,  1.4828611 ,  1.03306459,  0.85226202],\n",
              "       [ 0.71774056, -0.7257531 ,  0.694411  ,  0.82913672,  0.72435476],\n",
              "       [ 0.71774056, -0.7257531 , -1.53953095, -1.68597365, -1.32216129],\n",
              "       [ 0.71774056,  1.37787907, -0.22544745,  0.82913672,  0.66040114],\n",
              "       [-1.39326109, -0.7257531 , -1.01389755, -0.80228622, -1.13030041],\n",
              "       [-1.39326109, -0.7257531 ,  1.02293187,  1.23699246,  1.42784466],\n",
              "       [ 0.71774056,  1.37787907,  0.49729847,  0.35330503,  0.340633  ],\n",
              "       [ 0.71774056, -0.7257531 , -0.55396832, -1.142166  , -0.81053228],\n",
              "       [ 0.71774056, -0.7257531 , -0.15974328, -1.21014195, -1.51402217],\n",
              "       [ 0.71774056, -0.7257531 , -0.81678502, -0.19050262,  0.0848185 ],\n",
              "       [-1.39326109, -0.7257531 ,  0.36589012,  0.28532907,  0.14877212],\n",
              "       [ 0.71774056,  1.37787907,  0.694411  ,  0.35330503,  0.46854026],\n",
              "       [ 0.71774056, -0.7257531 ,  0.694411  ,  0.76116077,  0.27667938],\n",
              "       [ 0.71774056,  1.37787907,  2.20560702,  1.03306459,  1.23598378],\n",
              "       [-1.39326109, -0.7257531 , -1.4081226 , -2.43370916, -2.28146569],\n",
              "       [-1.39326109, -0.7257531 , -1.01389755, -0.12252666,  0.0848185 ],\n",
              "       [ 0.71774056, -0.7257531 ,  0.30018595, -0.80228622, -0.49076414],\n",
              "       [ 0.71774056, -0.7257531 ,  0.30018595,  0.01342525, -0.17099601],\n",
              "       [-1.39326109,  1.37787907, -0.3568558 ,  0.14937716, -0.17099601],\n",
              "       [-1.39326109,  1.37787907,  0.56300265, -0.25847857, -0.10704238],\n",
              "       [-1.39326109, -0.7257531 , -1.01389755, -1.61799769, -1.64192942],\n",
              "       [ 0.71774056,  1.37787907, -0.0940391 ,  0.01342525,  0.40458663],\n",
              "       [-1.39326109,  1.37787907, -0.75108085, -0.0545507 , -0.49076414],\n",
              "       [ 0.71774056,  1.37787907,  2.20560702,  2.12067988,  2.06738092],\n",
              "       [-1.39326109,  1.37787907,  0.10307342,  0.14937716, -0.04308876],\n",
              "       [ 0.71774056,  1.37787907, -0.15974328,  0.76116077,  0.59644751],\n",
              "       [ 0.71774056, -0.7257531 , -1.6709393 , -1.34609387, -1.19425403],\n",
              "       [-1.39326109, -0.7257531 , -1.21101007, -1.7539496 , -1.70588305],\n",
              "       [ 0.71774056, -0.7257531 , -0.42255997, -0.46240644, -0.49076414],\n",
              "       [ 0.71774056,  1.37787907, -1.21101007, -0.87026218, -0.23494964],\n",
              "       [ 0.71774056, -0.7257531 ,  0.36589012, -0.25847857, -0.55471777],\n",
              "       [-1.39326109,  1.37787907, -0.22544745,  0.01342525, -0.55471777],\n",
              "       [ 0.71774056, -0.7257531 , -0.15974328, -0.12252666,  0.02086487],\n",
              "       [-1.39326109, -0.7257531 ,  0.10307342, -0.39443048, -0.68262502],\n",
              "       [-1.39326109, -0.7257531 , -0.42255997,  0.42128099,  0.14877212],\n",
              "       [ 0.71774056, -0.7257531 ,  0.36589012, -0.66633431, -0.8744859 ],\n",
              "       [-1.39326109, -0.7257531 , -1.07960172, -0.87026218, -0.49076414],\n",
              "       [ 0.71774056, -0.7257531 ,  0.36589012,  0.96508863,  0.98016927],\n",
              "       [ 0.71774056,  1.37787907, -1.1453059 , -0.32645453, -0.04308876],\n",
              "       [ 0.71774056, -0.7257531 ,  1.41715692,  2.12067988,  1.2999374 ],\n",
              "       [ 0.71774056,  1.37787907,  1.2200444 ,  1.64484819,  1.55575191],\n",
              "       [ 0.71774056, -0.7257531 ,  0.76011517,  1.37294437,  1.61970554],\n",
              "       [-1.39326109, -0.7257531 , -1.01389755, -0.80228622, -0.68262502],\n",
              "       [-1.39326109,  1.37787907, -1.53953095, -0.59835835, -0.49076414],\n",
              "       [ 0.71774056, -0.7257531 , -0.48826415, -0.80228622, -0.6186714 ],\n",
              "       [ 0.71774056, -0.7257531 , -0.8824892 ,  0.21735312, -0.10704238],\n",
              "       [ 0.71774056, -0.7257531 , -1.21101007, -0.39443048, -0.93843953],\n",
              "       [-1.39326109,  1.37787907,  0.36589012,  0.48925694,  0.340633  ],\n",
              "       [ 0.71774056, -0.7257531 , -0.42255997, -0.32645453, -0.04308876],\n",
              "       [ 0.71774056, -0.7257531 , -1.1453059 ,  0.08140121, -0.29890326],\n",
              "       [ 0.71774056, -0.7257531 , -0.22544745,  0.89711268,  0.21272575],\n",
              "       [-1.39326109, -0.7257531 , -0.75108085, -0.80228622, -0.49076414],\n",
              "       [-1.39326109, -0.7257531 , -1.4081226 , -1.27811791, -1.64192942],\n",
              "       [ 0.71774056, -0.7257531 ,  0.89152352,  0.08140121, -0.49076414],\n",
              "       [ 0.71774056, -0.7257531 ,  0.9572277 ,  1.10104055,  1.49179828],\n",
              "       [-1.39326109, -0.7257531 , -0.8824892 ,  0.08140121,  0.0848185 ],\n",
              "       [-1.39326109,  1.37787907, -0.81678502, -0.93823813, -0.17099601],\n",
              "       [ 0.71774056, -0.7257531 ,  1.02293187,  0.35330503,  0.340633  ],\n",
              "       [ 0.71774056, -0.7257531 , -0.29115162, -0.32645453, -0.29890326],\n",
              "       [ 0.71774056, -0.7257531 , -1.1453059 , -1.48204578, -1.19425403],\n",
              "       [ 0.71774056, -0.7257531 ,  2.13990284,  1.71282415,  1.87552004],\n",
              "       [ 0.71774056, -0.7257531 ,  0.30018595,  0.5572329 ,  0.14877212]])"
            ]
          },
          "metadata": {},
          "execution_count": 40
        }
      ]
    },
    {
      "cell_type": "code",
      "source": [
        "model = SVC(C=1, gamma = 1, kernel = 'rbf')"
      ],
      "metadata": {
        "id": "caoXOjRvZK3W"
      },
      "execution_count": 41,
      "outputs": []
    },
    {
      "cell_type": "code",
      "source": [
        "model.fit(scaled_X_train,y_train)"
      ],
      "metadata": {
        "colab": {
          "base_uri": "https://localhost:8080/"
        },
        "id": "_sbX17VPZg61",
        "outputId": "44f69a22-2369-46a6-df0d-9cd2d70081c3"
      },
      "execution_count": 42,
      "outputs": [
        {
          "output_type": "execute_result",
          "data": {
            "text/plain": [
              "SVC(C=1, gamma=1)"
            ]
          },
          "metadata": {},
          "execution_count": 42
        }
      ]
    },
    {
      "cell_type": "code",
      "source": [
        "y_pred = model.predict(scaled_X_test)"
      ],
      "metadata": {
        "id": "1UaG56HYZzke"
      },
      "execution_count": 43,
      "outputs": []
    },
    {
      "cell_type": "code",
      "source": [
        "print(confusion_matrix(y_test, y_pred))\n"
      ],
      "metadata": {
        "colab": {
          "base_uri": "https://localhost:8080/"
        },
        "id": "hczy9CeZZ1J2",
        "outputId": "1ea64197-df34-4bf8-9206-fb2c078a601d"
      },
      "execution_count": 44,
      "outputs": [
        {
          "output_type": "stream",
          "name": "stdout",
          "text": [
            "[[89 10]\n",
            " [22 79]]\n"
          ]
        }
      ]
    },
    {
      "cell_type": "code",
      "source": [
        "print(classification_report(y_test, y_pred))\n"
      ],
      "metadata": {
        "colab": {
          "base_uri": "https://localhost:8080/"
        },
        "id": "PX-GYpOSZ6D2",
        "outputId": "5e7b6d6c-8e70-4dc9-a2cd-50a1be212dcc"
      },
      "execution_count": 45,
      "outputs": [
        {
          "output_type": "stream",
          "name": "stdout",
          "text": [
            "              precision    recall  f1-score   support\n",
            "\n",
            "           0       0.80      0.90      0.85        99\n",
            "           1       0.89      0.78      0.83       101\n",
            "\n",
            "    accuracy                           0.84       200\n",
            "   macro avg       0.84      0.84      0.84       200\n",
            "weighted avg       0.85      0.84      0.84       200\n",
            "\n"
          ]
        }
      ]
    },
    {
      "cell_type": "code",
      "source": [
        "params = {\n",
        "    'C':  [0.1, 1, 10, 100, 1000],\n",
        "    'gamma':  [1,0.1,0.01,0.001,0.0001],\n",
        "    'kernel': ['rbf'],\n",
        "}\n",
        "\n",
        "grid = GridSearchCV(\n",
        "    SVC(),\n",
        "    params,\n",
        "    refit = True\n",
        ")\n",
        "\n",
        "grid.fit(scaled_X_train,y_train)\n",
        "print(grid.best_params_)"
      ],
      "metadata": {
        "colab": {
          "base_uri": "https://localhost:8080/"
        },
        "id": "ZR4VRrH8Z9AG",
        "outputId": "19ecfdc9-fb41-48bd-fae6-e0de9193ab4c"
      },
      "execution_count": 46,
      "outputs": [
        {
          "output_type": "stream",
          "name": "stdout",
          "text": [
            "{'C': 1000, 'gamma': 0.001, 'kernel': 'rbf'}\n"
          ]
        }
      ]
    },
    {
      "cell_type": "code",
      "source": [
        "grid.best_estimator_"
      ],
      "metadata": {
        "colab": {
          "base_uri": "https://localhost:8080/"
        },
        "id": "tY-u4Dxea4yN",
        "outputId": "d9074f0c-c91b-4fda-c285-377b380f49a2"
      },
      "execution_count": 47,
      "outputs": [
        {
          "output_type": "execute_result",
          "data": {
            "text/plain": [
              "SVC(C=1000, gamma=0.001)"
            ]
          },
          "metadata": {},
          "execution_count": 47
        }
      ]
    },
    {
      "cell_type": "code",
      "source": [
        "grid_predictions = grid.predict(scaled_X_test)"
      ],
      "metadata": {
        "id": "qbSnWoMLbsrl"
      },
      "execution_count": 48,
      "outputs": []
    },
    {
      "cell_type": "code",
      "source": [
        "print(confusion_matrix(y_test,grid_predictions))"
      ],
      "metadata": {
        "colab": {
          "base_uri": "https://localhost:8080/"
        },
        "id": "4jn_FiM4bv5N",
        "outputId": "8a8fdc81-8edf-4a56-ad75-a330153dc22b"
      },
      "execution_count": 49,
      "outputs": [
        {
          "output_type": "stream",
          "name": "stdout",
          "text": [
            "[[93  6]\n",
            " [16 85]]\n"
          ]
        }
      ]
    },
    {
      "cell_type": "code",
      "source": [
        "print(classification_report(y_test,grid_predictions))"
      ],
      "metadata": {
        "colab": {
          "base_uri": "https://localhost:8080/"
        },
        "id": "ZAlHS549bxJp",
        "outputId": "11a4a2b4-177f-4747-85d5-d199455309e3"
      },
      "execution_count": 50,
      "outputs": [
        {
          "output_type": "stream",
          "name": "stdout",
          "text": [
            "              precision    recall  f1-score   support\n",
            "\n",
            "           0       0.85      0.94      0.89        99\n",
            "           1       0.93      0.84      0.89       101\n",
            "\n",
            "    accuracy                           0.89       200\n",
            "   macro avg       0.89      0.89      0.89       200\n",
            "weighted avg       0.89      0.89      0.89       200\n",
            "\n"
          ]
        }
      ]
    },
    {
      "cell_type": "markdown",
      "source": [
        "# **Random Forest**"
      ],
      "metadata": {
        "id": "WFTepB0JggEI"
      }
    },
    {
      "cell_type": "code",
      "source": [
        "# x = df.drop(['gender'], axis = 1)\n",
        "# y = df['gender']"
      ],
      "metadata": {
        "id": "OH9a6T5OjHgA"
      },
      "execution_count": 51,
      "outputs": []
    },
    {
      "cell_type": "code",
      "source": [
        "# X_train, X_test, y_train, y_test = train_test_split(x, y, test_size=0.20)"
      ],
      "metadata": {
        "id": "7SL6Nu9AjMBM"
      },
      "execution_count": 52,
      "outputs": []
    },
    {
      "cell_type": "code",
      "source": [
        "clf_randomForest = RandomForestClassifier(n_estimators=1000, max_features=3, verbose=True)\n",
        "clf_randomForest.fit(X_train, y_train)"
      ],
      "metadata": {
        "colab": {
          "base_uri": "https://localhost:8080/"
        },
        "id": "pt-1K5hgg1Ok",
        "outputId": "0cc38d7d-25fb-4218-c9a9-6c43c73fafb3"
      },
      "execution_count": 53,
      "outputs": [
        {
          "output_type": "stream",
          "name": "stderr",
          "text": [
            "[Parallel(n_jobs=1)]: Using backend SequentialBackend with 1 concurrent workers.\n",
            "[Parallel(n_jobs=1)]: Done 1000 out of 1000 | elapsed:    4.3s finished\n"
          ]
        },
        {
          "output_type": "execute_result",
          "data": {
            "text/plain": [
              "RandomForestClassifier(max_features=3, n_estimators=1000, verbose=True)"
            ]
          },
          "metadata": {},
          "execution_count": 53
        }
      ]
    },
    {
      "cell_type": "code",
      "source": [
        "y_pred_RandomForest = clf_randomForest.predict(X_test)"
      ],
      "metadata": {
        "colab": {
          "base_uri": "https://localhost:8080/"
        },
        "id": "WS3QHKlrhF6T",
        "outputId": "217c412e-51f4-4086-dca2-8856fe22fa79"
      },
      "execution_count": 54,
      "outputs": [
        {
          "output_type": "stream",
          "name": "stderr",
          "text": [
            "[Parallel(n_jobs=1)]: Using backend SequentialBackend with 1 concurrent workers.\n",
            "[Parallel(n_jobs=1)]: Done 1000 out of 1000 | elapsed:    0.4s finished\n"
          ]
        }
      ]
    },
    {
      "cell_type": "code",
      "source": [
        "print(classification_report(y_test, y_pred_RandomForest))"
      ],
      "metadata": {
        "colab": {
          "base_uri": "https://localhost:8080/"
        },
        "id": "z_6pI_lXhM-j",
        "outputId": "ac84fd2e-11f5-46dd-d456-c108f93a8906"
      },
      "execution_count": 55,
      "outputs": [
        {
          "output_type": "stream",
          "name": "stdout",
          "text": [
            "              precision    recall  f1-score   support\n",
            "\n",
            "           0       0.82      0.91      0.86        99\n",
            "           1       0.90      0.80      0.85       101\n",
            "\n",
            "    accuracy                           0.85       200\n",
            "   macro avg       0.86      0.86      0.85       200\n",
            "weighted avg       0.86      0.85      0.85       200\n",
            "\n"
          ]
        }
      ]
    },
    {
      "cell_type": "code",
      "source": [
        "print(confusion_matrix(y_test, y_pred_RandomForest))"
      ],
      "metadata": {
        "colab": {
          "base_uri": "https://localhost:8080/"
        },
        "id": "YT0nL_C_hjcD",
        "outputId": "e3fc3ccb-5feb-44b9-8e84-b66c63c47d56"
      },
      "execution_count": 56,
      "outputs": [
        {
          "output_type": "stream",
          "name": "stdout",
          "text": [
            "[[90  9]\n",
            " [20 81]]\n"
          ]
        }
      ]
    },
    {
      "cell_type": "markdown",
      "source": [
        "# **AdaBoost**"
      ],
      "metadata": {
        "id": "t3hVhHZlkv10"
      }
    },
    {
      "cell_type": "code",
      "source": [
        "# x = df.drop(['gender'], axis = 1)\n",
        "# y = df['gender']"
      ],
      "metadata": {
        "id": "t-X2GLb9k0H7"
      },
      "execution_count": 57,
      "outputs": []
    },
    {
      "cell_type": "code",
      "source": [
        "# X_train, X_test, y_train, y_test = train_test_split(x, y, test_size=0.20)"
      ],
      "metadata": {
        "id": "XYZ2gYCqk2no"
      },
      "execution_count": 58,
      "outputs": []
    },
    {
      "cell_type": "code",
      "source": [
        "clf_AdaBoost = AdaBoostClassifier(n_estimators=100, random_state=0)\n",
        "clf_AdaBoost.fit(X_train, y_train)"
      ],
      "metadata": {
        "colab": {
          "base_uri": "https://localhost:8080/"
        },
        "id": "JJ_3n2Ltk254",
        "outputId": "34de3adf-a704-4687-ca71-47a8c171bfe6"
      },
      "execution_count": 59,
      "outputs": [
        {
          "output_type": "execute_result",
          "data": {
            "text/plain": [
              "AdaBoostClassifier(n_estimators=100, random_state=0)"
            ]
          },
          "metadata": {},
          "execution_count": 59
        }
      ]
    },
    {
      "cell_type": "code",
      "source": [
        "y_pred_AdaBoost = clf_AdaBoost.predict(X_test)"
      ],
      "metadata": {
        "id": "5v9ptottmDQw"
      },
      "execution_count": 60,
      "outputs": []
    },
    {
      "cell_type": "code",
      "source": [
        "print(classification_report(y_test, y_pred_AdaBoost))"
      ],
      "metadata": {
        "colab": {
          "base_uri": "https://localhost:8080/"
        },
        "id": "lbhvZfU_mZGs",
        "outputId": "ecd77481-45e5-4220-8a2f-e22dfefbccda"
      },
      "execution_count": 61,
      "outputs": [
        {
          "output_type": "stream",
          "name": "stdout",
          "text": [
            "              precision    recall  f1-score   support\n",
            "\n",
            "           0       0.83      0.90      0.86        99\n",
            "           1       0.89      0.82      0.86       101\n",
            "\n",
            "    accuracy                           0.86       200\n",
            "   macro avg       0.86      0.86      0.86       200\n",
            "weighted avg       0.86      0.86      0.86       200\n",
            "\n"
          ]
        }
      ]
    },
    {
      "cell_type": "code",
      "source": [
        "print(confusion_matrix(y_test, y_pred_AdaBoost))"
      ],
      "metadata": {
        "colab": {
          "base_uri": "https://localhost:8080/"
        },
        "id": "hZK2pXScmcaI",
        "outputId": "24df5b71-8adc-4ff3-fb07-aedd70b521d1"
      },
      "execution_count": 62,
      "outputs": [
        {
          "output_type": "stream",
          "name": "stdout",
          "text": [
            "[[89 10]\n",
            " [18 83]]\n"
          ]
        }
      ]
    },
    {
      "cell_type": "code",
      "source": [],
      "metadata": {
        "id": "n4KPJueZm54g"
      },
      "execution_count": 62,
      "outputs": []
    }
  ]
}