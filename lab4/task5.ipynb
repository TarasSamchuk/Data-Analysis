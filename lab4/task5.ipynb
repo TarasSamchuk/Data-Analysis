{
 "cells": [
  {
   "cell_type": "code",
   "execution_count": 1,
   "id": "1445e3ae",
   "metadata": {
    "id": "1445e3ae"
   },
   "outputs": [],
   "source": [
    "import pathlib\n",
    "import random\n",
    "import string\n",
    "import re\n",
    "\n",
    "import numpy as np\n",
    "import pandas as pd\n",
    "\n",
    "import tensorflow as tf\n",
    "from tensorflow import keras\n",
    "from tensorflow.keras import layers\n",
    "from tensorflow.keras.layers import TextVectorization"
   ]
  },
  {
   "cell_type": "code",
   "execution_count": 4,
   "id": "f058fce1",
   "metadata": {
    "id": "f058fce1"
   },
   "outputs": [],
   "source": [
    "df = pd.read_csv('ukr.txt', delimiter = \"\\t\", encoding='cp1251')\n",
    "data = df[['eng', 'ukr']]"
   ]
  },
  {
   "cell_type": "code",
   "execution_count": 5,
   "id": "8b786386",
   "metadata": {
    "id": "8b786386"
   },
   "outputs": [],
   "source": [
    "# data"
   ]
  },
  {
   "cell_type": "code",
   "execution_count": 6,
   "id": "c4ee26ac",
   "metadata": {
    "id": "c4ee26ac"
   },
   "outputs": [],
   "source": [
    "def create_pair(eng_text, ukr_text):\n",
    "    text_pairs = []\n",
    "    ukr_text = \"[start] \" + ukr_text + \" [end]\"\n",
    "    text_pairs.append(eng_text)\n",
    "    text_pairs.append(ukr_text)\n",
    "    return text_pairs\n",
    "\n",
    "data['pair'] = data.apply(lambda x:create_pair(x['eng'], x['ukr']), axis = 1)"
   ]
  },
  {
   "cell_type": "code",
   "execution_count": 7,
   "id": "e977ec89",
   "metadata": {
    "colab": {
     "base_uri": "https://localhost:8080/"
    },
    "id": "e977ec89",
    "outputId": "c9c1c43d-437e-4cdd-fb92-5605a0497911"
   },
   "outputs": [
    {
     "data": {
      "text/plain": [
       "0                                 [Go., [start] Йди. [end]]\n",
       "1                               [Hi., [start] Вітаю! [end]]\n",
       "2                              [Hi., [start] Привіт. [end]]\n",
       "3                              [Hi., [start] Привіт! [end]]\n",
       "4                             [Run!, [start] Біжіть! [end]]\n",
       "                                ...                        \n",
       "154456    [If you take a child outside and point at the ...\n",
       "154457    [When writing a sentence, generally you start ...\n",
       "154458    [If forests cover 9.4% of the earth's surface,...\n",
       "154459    [The Tatoeba Project, which can be found onlin...\n",
       "154460    [I've heard that you should never date anyone ...\n",
       "Name: pair, Length: 154461, dtype: object"
      ]
     },
     "execution_count": 7,
     "metadata": {},
     "output_type": "execute_result"
    }
   ],
   "source": [
    "data['pair']"
   ]
  },
  {
   "cell_type": "code",
   "execution_count": 8,
   "id": "c41d016e",
   "metadata": {
    "id": "c41d016e"
   },
   "outputs": [],
   "source": [
    "text = []\n",
    "def to_text(data):\n",
    "    \n",
    "    for i in data:\n",
    "        text.append(i)\n",
    "    return text\n",
    "\n",
    "text_pairs = to_text(data['pair'])"
   ]
  },
  {
   "cell_type": "code",
   "execution_count": 9,
   "id": "517cf53f",
   "metadata": {
    "colab": {
     "base_uri": "https://localhost:8080/"
    },
    "id": "517cf53f",
    "outputId": "195b3c61-0622-4a53-d07d-3680cc422407"
   },
   "outputs": [
    {
     "name": "stdout",
     "output_type": "stream",
     "text": [
      "['I prefer to read.', '[start] Мені більше подобається читати. [end]']\n",
      "['Choose the one you like.', '[start] Виберіть, який тобі подобається. [end]']\n",
      "['A dog can run faster than a man can.', '[start] Собака може бігти швидше за людину. [end]']\n",
      "['She made thirty thousand dollars.', '[start] Вона заробила тридцять тисяч доларів. [end]']\n",
      "['I forgot to buy the tickets.', '[start] Я забула купити квитки. [end]']\n"
     ]
    }
   ],
   "source": [
    "for _ in range(5):\n",
    "    print(random.choice(text))"
   ]
  },
  {
   "cell_type": "code",
   "execution_count": 10,
   "id": "3011c60c",
   "metadata": {
    "colab": {
     "base_uri": "https://localhost:8080/"
    },
    "id": "3011c60c",
    "outputId": "6f9393e7-a8f9-4338-f8c4-6199e861e621"
   },
   "outputs": [
    {
     "name": "stdout",
     "output_type": "stream",
     "text": [
      "154461 total pairs\n",
      "108123 training pairs\n",
      "23169 validation pairs\n",
      "23169 test pairs\n"
     ]
    }
   ],
   "source": [
    "random.shuffle(text_pairs)\n",
    "num_val_samples = int(0.15 * len(text_pairs))\n",
    "num_train_samples = len(text_pairs) - 2 * num_val_samples\n",
    "train_pairs = text_pairs[:num_train_samples]\n",
    "val_pairs = text_pairs[num_train_samples : num_train_samples + num_val_samples]\n",
    "test_pairs = text_pairs[num_train_samples + num_val_samples :]\n",
    "\n",
    "print(f\"{len(text_pairs)} total pairs\")\n",
    "print(f\"{len(train_pairs)} training pairs\")\n",
    "print(f\"{len(val_pairs)} validation pairs\")\n",
    "print(f\"{len(test_pairs)} test pairs\")"
   ]
  },
  {
   "cell_type": "code",
   "execution_count": 11,
   "id": "953d7676",
   "metadata": {
    "id": "953d7676"
   },
   "outputs": [],
   "source": [
    "strip_chars = string.punctuation + \"¿\"\n",
    "strip_chars = strip_chars.replace(\"[\", \"\")\n",
    "strip_chars = strip_chars.replace(\"]\", \"\")\n",
    "\n",
    "vocab_size = 15000\n",
    "sequence_length = 20\n",
    "batch_size = 64\n",
    "\n",
    "\n",
    "def custom_standardization(input_string):\n",
    "    lowercase = tf.strings.lower(input_string)\n",
    "    return tf.strings.regex_replace(lowercase, \"[%s]\" % re.escape(strip_chars), \"\")\n",
    "\n",
    "\n",
    "eng_vectorization = TextVectorization(\n",
    "    max_tokens=vocab_size, output_mode=\"int\", output_sequence_length=sequence_length,)\n",
    "\n",
    "ukr_vectorization = TextVectorization(\n",
    "    max_tokens=vocab_size,\n",
    "    output_mode=\"int\",\n",
    "    output_sequence_length=sequence_length + 1,\n",
    "    standardize=custom_standardization,\n",
    ")\n",
    "train_eng_texts = [pair[0] for pair in train_pairs]\n",
    "train_ukr_texts = [pair[1] for pair in train_pairs]\n",
    "eng_vectorization.adapt(train_eng_texts)\n",
    "ukr_vectorization.adapt(train_ukr_texts)"
   ]
  },
  {
   "cell_type": "code",
   "execution_count": 12,
   "id": "26c26676",
   "metadata": {
    "colab": {
     "base_uri": "https://localhost:8080/"
    },
    "id": "26c26676",
    "outputId": "31178b08-b9e9-46d2-927e-78e24b562aab"
   },
   "outputs": [
    {
     "data": {
      "text/plain": [
       "<keras.layers.preprocessing.text_vectorization.TextVectorization at 0x7f32c6d9d450>"
      ]
     },
     "execution_count": 12,
     "metadata": {},
     "output_type": "execute_result"
    }
   ],
   "source": [
    "ukr_vectorization"
   ]
  },
  {
   "cell_type": "code",
   "execution_count": 13,
   "id": "24bd43f5",
   "metadata": {
    "colab": {
     "base_uri": "https://localhost:8080/"
    },
    "id": "24bd43f5",
    "outputId": "2a3c3a5b-86e3-4e41-a553-14682c32d23c"
   },
   "outputs": [
    {
     "data": {
      "text/plain": [
       "<keras.layers.preprocessing.text_vectorization.TextVectorization at 0x7f32c6d9d490>"
      ]
     },
     "execution_count": 13,
     "metadata": {},
     "output_type": "execute_result"
    }
   ],
   "source": [
    "eng_vectorization"
   ]
  },
  {
   "cell_type": "code",
   "execution_count": 14,
   "id": "ec67b190",
   "metadata": {
    "id": "ec67b190"
   },
   "outputs": [],
   "source": [
    "def format_dataset(eng, ukr):\n",
    "    eng = eng_vectorization(eng)\n",
    "    ukr = ukr_vectorization(ukr)\n",
    "    return ({\"encoder_inputs\": eng, \"decoder_inputs\": ukr[:, :-1],}, ukr[:, 1:])\n",
    "\n",
    "\n",
    "def make_dataset(pairs):\n",
    "    eng_texts, ukr_texts = zip(*pairs)\n",
    "    eng_texts = list(eng_texts)\n",
    "    ukr_texts = list(ukr_texts)\n",
    "    dataset = tf.data.Dataset.from_tensor_slices((eng_texts, ukr_texts))\n",
    "    dataset = dataset.batch(batch_size)\n",
    "    dataset = dataset.map(format_dataset)\n",
    "    return dataset.shuffle(2048).prefetch(16).cache()\n",
    "\n",
    "\n",
    "train_ds = make_dataset(train_pairs)\n",
    "val_ds = make_dataset(val_pairs)"
   ]
  },
  {
   "cell_type": "code",
   "execution_count": 15,
   "id": "82954763",
   "metadata": {
    "colab": {
     "base_uri": "https://localhost:8080/"
    },
    "id": "82954763",
    "outputId": "15dcdd43-ba59-4130-90d4-c135e3c8d202"
   },
   "outputs": [
    {
     "name": "stdout",
     "output_type": "stream",
     "text": [
      "inputs[\"encoder_inputs\"].shape: (64, 20)\n",
      "inputs[\"decoder_inputs\"].shape: (64, 20)\n",
      "targets.shape: (64, 20)\n"
     ]
    }
   ],
   "source": [
    "for inputs, targets in train_ds.take(1):\n",
    "    print(f'inputs[\"encoder_inputs\"].shape: {inputs[\"encoder_inputs\"].shape}')\n",
    "    print(f'inputs[\"decoder_inputs\"].shape: {inputs[\"decoder_inputs\"].shape}')\n",
    "    print(f\"targets.shape: {targets.shape}\")"
   ]
  },
  {
   "cell_type": "code",
   "execution_count": 16,
   "id": "054c70ab",
   "metadata": {
    "id": "054c70ab"
   },
   "outputs": [],
   "source": [
    "class TransformerEncoder(layers.Layer):\n",
    "    def __init__(self, embed_dim, dense_dim, num_heads, **kwargs):\n",
    "        super(TransformerEncoder, self).__init__(**kwargs)\n",
    "        self.embed_dim = embed_dim\n",
    "        self.dense_dim = dense_dim\n",
    "        self.num_heads = num_heads\n",
    "        self.attention = layers.MultiHeadAttention(\n",
    "            num_heads=num_heads, key_dim=embed_dim\n",
    "        )\n",
    "        self.dense_proj = keras.Sequential(\n",
    "            [layers.Dense(dense_dim, activation=\"relu\"), layers.Dense(embed_dim),]\n",
    "        )\n",
    "        self.layernorm_1 = layers.LayerNormalization()\n",
    "        self.layernorm_2 = layers.LayerNormalization()\n",
    "        self.supports_masking = True\n",
    "\n",
    "    def get_config(self):\n",
    "        config = super().get_config().copy()\n",
    "        config.update({\n",
    "            'embed_dim': self.embed_dim,\n",
    "            'dense_dim': self.dense_dim,\n",
    "            'num_heads': self.num_heads,\n",
    "        })\n",
    "        return config\n",
    "        \n",
    "    def call(self, inputs, mask=None):\n",
    "        if mask is not None:\n",
    "            padding_mask = tf.cast(mask[:, tf.newaxis, tf.newaxis, :], dtype=\"int32\")\n",
    "        attention_output = self.attention(\n",
    "            query=inputs, value=inputs, key=inputs, attention_mask=padding_mask\n",
    "        )\n",
    "        proj_input = self.layernorm_1(inputs + attention_output)\n",
    "        proj_output = self.dense_proj(proj_input)\n",
    "        return self.layernorm_2(proj_input + proj_output)\n",
    "\n",
    "\n",
    "class PositionalEmbedding(layers.Layer):\n",
    "    def __init__(self, sequence_length, vocab_size, embed_dim, **kwargs):\n",
    "        super(PositionalEmbedding, self).__init__(**kwargs)\n",
    "        self.token_embeddings = layers.Embedding(\n",
    "            input_dim=vocab_size, output_dim=embed_dim\n",
    "        )\n",
    "        self.position_embeddings = layers.Embedding(\n",
    "            input_dim=sequence_length, output_dim=embed_dim\n",
    "        )\n",
    "        self.sequence_length = sequence_length\n",
    "        self.vocab_size = vocab_size\n",
    "        self.embed_dim = embed_dim\n",
    "\n",
    "    def get_config(self):\n",
    "        config = super().get_config().copy()\n",
    "        config.update({\n",
    "            'sequence_length': self.sequence_length,\n",
    "            'vocab_size': self.vocab_size,\n",
    "            'embed_dim': self.embed_dim,\n",
    "        })\n",
    "        return config\n",
    "        \n",
    "    def call(self, inputs):\n",
    "        length = tf.shape(inputs)[-1]\n",
    "        positions = tf.range(start=0, limit=length, delta=1)\n",
    "        embedded_tokens = self.token_embeddings(inputs)\n",
    "        embedded_positions = self.position_embeddings(positions)\n",
    "        return embedded_tokens + embedded_positions\n",
    "\n",
    "    def compute_mask(self, inputs, mask=None):\n",
    "        return tf.math.not_equal(inputs, 0)\n",
    "\n",
    "\n",
    "class TransformerDecoder(layers.Layer):\n",
    "    def __init__(self, embed_dim, latent_dim, num_heads, **kwargs):\n",
    "        super(TransformerDecoder, self).__init__(**kwargs)\n",
    "        self.embed_dim = embed_dim\n",
    "        self.latent_dim = latent_dim\n",
    "        self.num_heads = num_heads\n",
    "        self.attention_1 = layers.MultiHeadAttention(\n",
    "            num_heads=num_heads, key_dim=embed_dim\n",
    "        )\n",
    "        self.attention_2 = layers.MultiHeadAttention(\n",
    "            num_heads=num_heads, key_dim=embed_dim\n",
    "        )\n",
    "        self.dense_proj = keras.Sequential(\n",
    "            [layers.Dense(latent_dim, activation=\"relu\"), layers.Dense(embed_dim),]\n",
    "        )\n",
    "        self.layernorm_1 = layers.LayerNormalization()\n",
    "        self.layernorm_2 = layers.LayerNormalization()\n",
    "        self.layernorm_3 = layers.LayerNormalization()\n",
    "        self.supports_masking = True\n",
    "\n",
    "    def get_config(self):\n",
    "        config = super().get_config().copy()\n",
    "        config.update({\n",
    "            'embed_dim': self.embed_dim,\n",
    "            'latent_dim': self.latent_dim,\n",
    "            'num_heads': self.num_heads,\n",
    "        })\n",
    "        return config\n",
    "        \n",
    "    def call(self, inputs, encoder_outputs, mask=None):\n",
    "        causal_mask = self.get_causal_attention_mask(inputs)\n",
    "        if mask is not None:\n",
    "            padding_mask = tf.cast(mask[:, tf.newaxis, :], dtype=\"int32\")\n",
    "            padding_mask = tf.minimum(padding_mask, causal_mask)\n",
    "\n",
    "        attention_output_1 = self.attention_1(\n",
    "            query=inputs, value=inputs, key=inputs, attention_mask=causal_mask\n",
    "        )\n",
    "        out_1 = self.layernorm_1(inputs + attention_output_1)\n",
    "\n",
    "        attention_output_2 = self.attention_2(\n",
    "            query=out_1,\n",
    "            value=encoder_outputs,\n",
    "            key=encoder_outputs,\n",
    "            attention_mask=padding_mask,\n",
    "        )\n",
    "        out_2 = self.layernorm_2(out_1 + attention_output_2)\n",
    "\n",
    "        proj_output = self.dense_proj(out_2)\n",
    "        return self.layernorm_3(out_2 + proj_output)\n",
    "\n",
    "    def get_causal_attention_mask(self, inputs):\n",
    "        input_shape = tf.shape(inputs)\n",
    "        batch_size, sequence_length = input_shape[0], input_shape[1]\n",
    "        i = tf.range(sequence_length)[:, tf.newaxis]\n",
    "        j = tf.range(sequence_length)\n",
    "        mask = tf.cast(i >= j, dtype=\"int32\")\n",
    "        mask = tf.reshape(mask, (1, input_shape[1], input_shape[1]))\n",
    "        mult = tf.concat(\n",
    "            [tf.expand_dims(batch_size, -1), tf.constant([1, 1], dtype=tf.int32)],\n",
    "            axis=0,\n",
    "        )\n",
    "        return tf.tile(mask, mult)"
   ]
  },
  {
   "cell_type": "code",
   "execution_count": null,
   "id": "5c36ca41",
   "metadata": {
    "id": "5c36ca41"
   },
   "outputs": [],
   "source": [
    "embed_dim = 128\n",
    "latent_dim = 256\n",
    "num_heads = 8\n",
    "\n",
    "encoder_inputs = keras.Input(shape=(None,), dtype=\"int64\", name=\"encoder_inputs\")\n",
    "x = PositionalEmbedding(sequence_length, vocab_size, embed_dim)(encoder_inputs)\n",
    "encoder_outputs = TransformerEncoder(embed_dim, latent_dim, num_heads)(x)\n",
    "encoder = keras.Model(encoder_inputs, encoder_outputs)\n",
    "\n",
    "decoder_inputs = keras.Input(shape=(None,), dtype=\"int64\", name=\"decoder_inputs\")\n",
    "encoded_seq_inputs = keras.Input(shape=(None, embed_dim), name=\"decoder_state_inputs\")\n",
    "x = PositionalEmbedding(sequence_length, vocab_size, embed_dim)(decoder_inputs)\n",
    "x = TransformerDecoder(embed_dim, latent_dim, num_heads)(x, encoded_seq_inputs)\n",
    "x = layers.Dropout(0.5)(x)\n",
    "decoder_outputs = layers.Dense(vocab_size, activation=\"softmax\")(x)\n",
    "decoder = keras.Model([decoder_inputs, encoded_seq_inputs], decoder_outputs)\n",
    "\n",
    "decoder_outputs = decoder([decoder_inputs, encoder_outputs])\n",
    "transformer = keras.Model(\n",
    "    [encoder_inputs, decoder_inputs], decoder_outputs, name=\"transformer\"\n",
    ")"
   ]
  },
  {
   "cell_type": "code",
   "execution_count": 34,
   "id": "56f2cae1",
   "metadata": {
    "colab": {
     "base_uri": "https://localhost:8080/"
    },
    "id": "56f2cae1",
    "outputId": "3297ed3a-3442-44d5-e2c2-9aae1bb7179d"
   },
   "outputs": [
    {
     "name": "stdout",
     "output_type": "stream",
     "text": [
      "Model: \"transformer\"\n",
      "__________________________________________________________________________________________________\n",
      " Layer (type)                   Output Shape         Param #     Connected to                     \n",
      "==================================================================================================\n",
      " encoder_inputs (InputLayer)    [(None, None)]       0           []                               \n",
      "                                                                                                  \n",
      " positional_embedding_8 (Positi  (None, None, 128)   1922560     ['encoder_inputs[0][0]']         \n",
      " onalEmbedding)                                                                                   \n",
      "                                                                                                  \n",
      " decoder_inputs (InputLayer)    [(None, None)]       0           []                               \n",
      "                                                                                                  \n",
      " transformer_encoder_4 (Transfo  (None, None, 128)   593920      ['positional_embedding_8[0][0]'] \n",
      " rmerEncoder)                                                                                     \n",
      "                                                                                                  \n",
      " model_9 (Functional)           (None, None, 15000)  4979224     ['decoder_inputs[0][0]',         \n",
      "                                                                  'transformer_encoder_4[0][0]']  \n",
      "                                                                                                  \n",
      "==================================================================================================\n",
      "Total params: 7,495,704\n",
      "Trainable params: 7,495,704\n",
      "Non-trainable params: 0\n",
      "__________________________________________________________________________________________________\n",
      "Epoch 1/50\n",
      "1690/1690 [==============================] - 131s 75ms/step - loss: 0.9088 - accuracy: 0.6633 - val_loss: 0.8694 - val_accuracy: 0.6631\n",
      "Epoch 2/50\n",
      "1690/1690 [==============================] - 126s 74ms/step - loss: 0.8966 - accuracy: 0.6683 - val_loss: 0.8660 - val_accuracy: 0.6634\n",
      "Epoch 3/50\n",
      "1690/1690 [==============================] - 126s 75ms/step - loss: 0.8896 - accuracy: 0.6717 - val_loss: 0.8631 - val_accuracy: 0.6648\n",
      "Epoch 4/50\n",
      "1690/1690 [==============================] - 126s 74ms/step - loss: 0.8829 - accuracy: 0.6749 - val_loss: 0.8620 - val_accuracy: 0.6669\n",
      "Epoch 5/50\n",
      "1690/1690 [==============================] - 126s 74ms/step - loss: 0.8762 - accuracy: 0.6778 - val_loss: 0.8611 - val_accuracy: 0.6669\n",
      "Epoch 6/50\n",
      "1690/1690 [==============================] - 125s 74ms/step - loss: 0.8699 - accuracy: 0.6808 - val_loss: 0.8606 - val_accuracy: 0.6678\n",
      "Epoch 7/50\n",
      "1690/1690 [==============================] - 126s 74ms/step - loss: 0.8636 - accuracy: 0.6830 - val_loss: 0.8577 - val_accuracy: 0.6691\n",
      "Epoch 8/50\n",
      "1690/1690 [==============================] - 126s 75ms/step - loss: 0.8575 - accuracy: 0.6855 - val_loss: 0.8584 - val_accuracy: 0.6676\n",
      "Epoch 9/50\n",
      "1690/1690 [==============================] - 126s 75ms/step - loss: 0.8512 - accuracy: 0.6882 - val_loss: 0.8552 - val_accuracy: 0.6715\n",
      "Epoch 10/50\n",
      "1690/1690 [==============================] - 126s 74ms/step - loss: 0.8457 - accuracy: 0.6901 - val_loss: 0.8584 - val_accuracy: 0.6680\n",
      "Epoch 11/50\n",
      "1690/1690 [==============================] - 126s 74ms/step - loss: 0.8406 - accuracy: 0.6923 - val_loss: 0.8532 - val_accuracy: 0.6700\n",
      "Epoch 12/50\n",
      "1690/1690 [==============================] - 126s 74ms/step - loss: 0.8353 - accuracy: 0.6940 - val_loss: 0.8534 - val_accuracy: 0.6710\n",
      "Epoch 13/50\n",
      "1690/1690 [==============================] - 126s 74ms/step - loss: 0.8296 - accuracy: 0.6959 - val_loss: 0.8470 - val_accuracy: 0.6710\n",
      "Epoch 14/50\n",
      "1690/1690 [==============================] - 126s 74ms/step - loss: 0.8270 - accuracy: 0.6973 - val_loss: 0.8567 - val_accuracy: 0.6719\n",
      "Epoch 15/50\n",
      "1690/1690 [==============================] - 126s 75ms/step - loss: 0.8234 - accuracy: 0.6988 - val_loss: 0.8542 - val_accuracy: 0.6698\n",
      "Epoch 16/50\n",
      "1690/1690 [==============================] - 126s 74ms/step - loss: 0.8183 - accuracy: 0.7006 - val_loss: 0.8479 - val_accuracy: 0.6738\n",
      "Epoch 17/50\n",
      "1690/1690 [==============================] - 125s 74ms/step - loss: 0.8129 - accuracy: 0.7021 - val_loss: 0.8477 - val_accuracy: 0.6730\n",
      "Epoch 18/50\n",
      "1690/1690 [==============================] - 126s 74ms/step - loss: 0.8131 - accuracy: 0.7038 - val_loss: 0.8623 - val_accuracy: 0.6689\n",
      "Epoch 19/50\n",
      "1690/1690 [==============================] - 127s 75ms/step - loss: 0.8083 - accuracy: 0.7053 - val_loss: 0.8514 - val_accuracy: 0.6740\n",
      "Epoch 20/50\n",
      "1690/1690 [==============================] - 126s 75ms/step - loss: 0.8034 - accuracy: 0.7065 - val_loss: 0.8526 - val_accuracy: 0.6749\n",
      "Epoch 21/50\n",
      "1690/1690 [==============================] - 127s 75ms/step - loss: 0.7985 - accuracy: 0.7083 - val_loss: 0.8444 - val_accuracy: 0.6748\n",
      "Epoch 22/50\n",
      "1690/1690 [==============================] - 126s 75ms/step - loss: 0.7990 - accuracy: 0.7088 - val_loss: 0.8583 - val_accuracy: 0.6744\n",
      "Epoch 23/50\n",
      "1690/1690 [==============================] - 126s 75ms/step - loss: 0.7954 - accuracy: 0.7105 - val_loss: 0.8613 - val_accuracy: 0.6756\n",
      "Epoch 24/50\n",
      "1690/1690 [==============================] - 126s 74ms/step - loss: 0.7910 - accuracy: 0.7118 - val_loss: 0.8557 - val_accuracy: 0.6761\n",
      "Epoch 25/50\n",
      "1690/1690 [==============================] - 126s 74ms/step - loss: 0.7865 - accuracy: 0.7125 - val_loss: 0.8546 - val_accuracy: 0.6743\n",
      "Epoch 26/50\n",
      "1690/1690 [==============================] - 126s 74ms/step - loss: 0.7841 - accuracy: 0.7136 - val_loss: 0.8572 - val_accuracy: 0.6748\n",
      "Epoch 27/50\n",
      "1690/1690 [==============================] - 126s 74ms/step - loss: 0.7852 - accuracy: 0.7148 - val_loss: 0.8603 - val_accuracy: 0.6759\n",
      "Epoch 28/50\n",
      "1690/1690 [==============================] - 126s 75ms/step - loss: 0.7816 - accuracy: 0.7158 - val_loss: 0.8597 - val_accuracy: 0.6759\n",
      "Epoch 29/50\n",
      "1690/1690 [==============================] - 127s 75ms/step - loss: 0.7778 - accuracy: 0.7169 - val_loss: 0.8560 - val_accuracy: 0.6796\n",
      "Epoch 30/50\n",
      "1690/1690 [==============================] - 126s 75ms/step - loss: 0.7743 - accuracy: 0.7180 - val_loss: 0.8591 - val_accuracy: 0.6773\n",
      "Epoch 31/50\n",
      "1690/1690 [==============================] - 126s 74ms/step - loss: 0.7708 - accuracy: 0.7185 - val_loss: 0.8573 - val_accuracy: 0.6770\n",
      "Epoch 32/50\n",
      "1690/1690 [==============================] - 126s 74ms/step - loss: 0.7727 - accuracy: 0.7193 - val_loss: 0.8637 - val_accuracy: 0.6768\n",
      "Epoch 33/50\n",
      "1690/1690 [==============================] - 126s 75ms/step - loss: 0.7705 - accuracy: 0.7205 - val_loss: 0.8623 - val_accuracy: 0.6759\n",
      "Epoch 34/50\n",
      "1690/1690 [==============================] - 126s 74ms/step - loss: 0.7663 - accuracy: 0.7215 - val_loss: 0.8672 - val_accuracy: 0.6763\n",
      "Epoch 35/50\n",
      "1690/1690 [==============================] - 126s 75ms/step - loss: 0.7630 - accuracy: 0.7226 - val_loss: 0.8704 - val_accuracy: 0.6690\n",
      "Epoch 36/50\n",
      "1690/1690 [==============================] - 126s 74ms/step - loss: 0.7595 - accuracy: 0.7228 - val_loss: 0.8577 - val_accuracy: 0.6763\n",
      "Epoch 37/50\n",
      "1690/1690 [==============================] - 126s 74ms/step - loss: 0.7600 - accuracy: 0.7232 - val_loss: 0.8677 - val_accuracy: 0.6763\n",
      "Epoch 38/50\n",
      "1690/1690 [==============================] - 126s 74ms/step - loss: 0.7609 - accuracy: 0.7245 - val_loss: 0.8776 - val_accuracy: 0.6714\n",
      "Epoch 39/50\n",
      "1690/1690 [==============================] - 126s 74ms/step - loss: 0.7574 - accuracy: 0.7255 - val_loss: 0.8704 - val_accuracy: 0.6737\n",
      "Epoch 40/50\n",
      "1690/1690 [==============================] - 126s 75ms/step - loss: 0.7540 - accuracy: 0.7262 - val_loss: 0.8724 - val_accuracy: 0.6744\n",
      "Epoch 41/50\n",
      "1690/1690 [==============================] - 126s 75ms/step - loss: 0.7512 - accuracy: 0.7271 - val_loss: 0.8708 - val_accuracy: 0.6765\n",
      "Epoch 42/50\n",
      "1690/1690 [==============================] - 126s 75ms/step - loss: 0.7488 - accuracy: 0.7276 - val_loss: 0.8658 - val_accuracy: 0.6722\n",
      "Epoch 43/50\n",
      "1690/1690 [==============================] - 126s 75ms/step - loss: 0.7502 - accuracy: 0.7276 - val_loss: 0.8798 - val_accuracy: 0.6714\n",
      "Epoch 44/50\n",
      "1690/1690 [==============================] - 126s 75ms/step - loss: 0.7502 - accuracy: 0.7280 - val_loss: 0.8782 - val_accuracy: 0.6728\n",
      "Epoch 45/50\n",
      "1690/1690 [==============================] - 126s 75ms/step - loss: 0.7471 - accuracy: 0.7297 - val_loss: 0.8757 - val_accuracy: 0.6759\n",
      "Epoch 46/50\n",
      "1690/1690 [==============================] - 126s 75ms/step - loss: 0.7436 - accuracy: 0.7304 - val_loss: 0.8818 - val_accuracy: 0.6754\n",
      "Epoch 47/50\n",
      "1690/1690 [==============================] - 127s 75ms/step - loss: 0.7414 - accuracy: 0.7310 - val_loss: 0.8735 - val_accuracy: 0.6777\n",
      "Epoch 48/50\n",
      "1690/1690 [==============================] - 127s 75ms/step - loss: 0.7400 - accuracy: 0.7305 - val_loss: 0.8658 - val_accuracy: 0.6786\n",
      "Epoch 49/50\n",
      "1690/1690 [==============================] - 127s 75ms/step - loss: 0.7388 - accuracy: 0.7315 - val_loss: 0.8737 - val_accuracy: 0.6787\n",
      "Epoch 50/50\n",
      "1690/1690 [==============================] - 127s 75ms/step - loss: 0.7423 - accuracy: 0.7316 - val_loss: 0.8839 - val_accuracy: 0.6741\n"
     ]
    },
    {
     "data": {
      "text/plain": [
       "<keras.callbacks.History at 0x7f322acfc710>"
      ]
     },
     "execution_count": 34,
     "metadata": {},
     "output_type": "execute_result"
    }
   ],
   "source": [
    "epochs = 50 \n",
    "transformer.summary()\n",
    "transformer.compile(\n",
    "    \"rmsprop\", loss=\"sparse_categorical_crossentropy\", metrics=[\"accuracy\"]\n",
    ")\n",
    "transformer.fit(train_ds, epochs=epochs, validation_data=val_ds)"
   ]
  },
  {
   "cell_type": "code",
   "execution_count": 39,
   "id": "806df165",
   "metadata": {
    "colab": {
     "base_uri": "https://localhost:8080/"
    },
    "id": "806df165",
    "outputId": "2e36c60a-ce7a-4bb8-a3fe-7dd5ff1fb8d2"
   },
   "outputs": [
    {
     "name": "stdout",
     "output_type": "stream",
     "text": [
      "input_sentence:  Maybe you should go home.  translated:  [start] Можливо тобі слід йти додому [end]\n",
      "input_sentence:  Tom is a lot older than I am.  translated:  [start] Том набагато старша ніж я [end]\n",
      "input_sentence:  No one shouted.  translated:  [start] Ніхто не [UNK] [end]\n",
      "input_sentence:  Many yachts are in the harbor.  translated:  [start] В [UNK] у [UNK] [UNK] [end]\n",
      "input_sentence:  Tom is one of Mary's children.  translated:  [start] Том — один із дітей Мері [end]\n"
     ]
    }
   ],
   "source": [
    "ukr_vocab = ukr_vectorization.get_vocabulary()\n",
    "ukr_index_lookup = dict(zip(range(len(ukr_vocab)), ukr_vocab))\n",
    "max_decoded_sentence_length = 20\n",
    "\n",
    "\n",
    "def decode_sequence(input_sentence):\n",
    "    tokenized_input_sentence = eng_vectorization([input_sentence])\n",
    "    decoded_sentence = \"[start]\"\n",
    "\n",
    "    for i in range(max_decoded_sentence_length):\n",
    "        tokenized_target_sentence = ukr_vectorization([decoded_sentence])[:, :-1]\n",
    "        predictions = transformer([tokenized_input_sentence, tokenized_target_sentence])\n",
    "        sampled_token_index = np.argmax(predictions[0, i, :])\n",
    "        sampled_token = ukr_index_lookup[sampled_token_index]\n",
    "        decoded_sentence += \" \" + sampled_token\n",
    "\n",
    "        if sampled_token == \"[end]\":\n",
    "            break\n",
    "    return decoded_sentence\n",
    "\n",
    "\n",
    "test_eng_texts = [pair[0] for pair in test_pairs]\n",
    "for _ in range(5):\n",
    "    input_sentence = random.choice(test_eng_texts)\n",
    "    translated = decode_sequence(input_sentence)\n",
    "    print(\"input_sentence: \", input_sentence,\" translated: \", translated)"
   ]
  },
  {
   "cell_type": "markdown",
   "id": "TgjYAwJjWi9i",
   "metadata": {
    "id": "TgjYAwJjWi9i"
   },
   "source": [
    "# Новий розділ"
   ]
  },
  {
   "cell_type": "code",
   "execution_count": 40,
   "id": "6a176872",
   "metadata": {
    "id": "6a176872"
   },
   "outputs": [],
   "source": [
    "transformer.save_weights(\"/home/translater2\")"
   ]
  },
  {
   "cell_type": "code",
   "execution_count": 41,
   "id": "59EfEZv5Zkii",
   "metadata": {
    "colab": {
     "base_uri": "https://localhost:8080/"
    },
    "id": "59EfEZv5Zkii",
    "outputId": "43ecd58b-b439-416f-e7a6-ab8cd4b1ac83"
   },
   "outputs": [
    {
     "data": {
      "text/plain": [
       "<tensorflow.python.training.tracking.util.CheckpointLoadStatus at 0x7f3228ec60d0>"
      ]
     },
     "execution_count": 41,
     "metadata": {},
     "output_type": "execute_result"
    }
   ],
   "source": [
    "tr2 = keras.Model([encoder_inputs, decoder_inputs], decoder_outputs, name=\"tr2\")\n",
    "tr2.load_weights('/home/translater2')"
   ]
  },
  {
   "cell_type": "code",
   "execution_count": 44,
   "id": "7_-8KAWiaI0k",
   "metadata": {
    "colab": {
     "base_uri": "https://localhost:8080/"
    },
    "id": "7_-8KAWiaI0k",
    "outputId": "9434f5c8-1d69-41b4-fa1c-9657b2402237"
   },
   "outputs": [
    {
     "name": "stdout",
     "output_type": "stream",
     "text": [
      "input_sentence:  The clock is wrong.  translated:  [start] Цей годинник не має рації [end]\n",
      "input_sentence:  You're so beautiful in that dress.  translated:  [start] Ви такі у цій [UNK] [end]\n",
      "input_sentence:  What are we looking for?  translated:  [start] Що ми [UNK] [end]\n",
      "input_sentence:  Where's my father?  translated:  [start] Де мій батько [end]\n",
      "input_sentence:  Put the book back in the bookcase.  translated:  [start] [UNK] книжку у [UNK] [UNK] [end]\n"
     ]
    }
   ],
   "source": [
    "tr2.compile(\n",
    "    \"rmsprop\", loss=\"sparse_categorical_crossentropy\", metrics=[\"accuracy\"]\n",
    ")\n",
    "# tr2.fit(train_ds, epochs=epochs, validation_data=val_ds)\n",
    "test_eng_texts = [pair[0] for pair in test_pairs]\n",
    "for _ in range(5):\n",
    "    input_sentence = random.choice(test_eng_texts)\n",
    "    # print(\"input_sentence:\", input_sentence)\n",
    "    translated = decode_sequence(input_sentence)\n",
    "    print(\"input_sentence: \", input_sentence,\" translated: \", translated)"
   ]
  },
  {
   "cell_type": "code",
   "execution_count": 45,
   "id": "1107f841",
   "metadata": {
    "colab": {
     "base_uri": "https://localhost:8080/"
    },
    "id": "1107f841",
    "outputId": "82a7dde1-62d9-49ab-842b-7851f395dc1f"
   },
   "outputs": [
    {
     "name": "stdout",
     "output_type": "stream",
     "text": [
      "Model: \"tr2\"\n",
      "__________________________________________________________________________________________________\n",
      " Layer (type)                   Output Shape         Param #     Connected to                     \n",
      "==================================================================================================\n",
      " encoder_inputs (InputLayer)    [(None, None)]       0           []                               \n",
      "                                                                                                  \n",
      " positional_embedding_8 (Positi  (None, None, 128)   1922560     ['encoder_inputs[0][0]']         \n",
      " onalEmbedding)                                                                                   \n",
      "                                                                                                  \n",
      " decoder_inputs (InputLayer)    [(None, None)]       0           []                               \n",
      "                                                                                                  \n",
      " transformer_encoder_4 (Transfo  (None, None, 128)   593920      ['positional_embedding_8[0][0]'] \n",
      " rmerEncoder)                                                                                     \n",
      "                                                                                                  \n",
      " model_9 (Functional)           (None, None, 15000)  4979224     ['decoder_inputs[0][0]',         \n",
      "                                                                  'transformer_encoder_4[0][0]']  \n",
      "                                                                                                  \n",
      "==================================================================================================\n",
      "Total params: 7,495,704\n",
      "Trainable params: 7,495,704\n",
      "Non-trainable params: 0\n",
      "__________________________________________________________________________________________________\n"
     ]
    }
   ],
   "source": [
    "tr2.summary()"
   ]
  },
  {
   "cell_type": "code",
   "execution_count": null,
   "id": "kbXwRfCeekXN",
   "metadata": {
    "id": "kbXwRfCeekXN"
   },
   "outputs": [],
   "source": []
  }
 ],
 "metadata": {
  "accelerator": "GPU",
  "colab": {
   "collapsed_sections": [],
   "name": "task5.ipynb",
   "provenance": []
  },
  "kernelspec": {
   "display_name": "gputest",
   "language": "python",
   "name": "gputest"
  },
  "language_info": {
   "codemirror_mode": {
    "name": "ipython",
    "version": 3
   },
   "file_extension": ".py",
   "mimetype": "text/x-python",
   "name": "python",
   "nbconvert_exporter": "python",
   "pygments_lexer": "ipython3",
   "version": "3.9.7"
  }
 },
 "nbformat": 4,
 "nbformat_minor": 5
}
