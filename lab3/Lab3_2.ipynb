{
  "nbformat": 4,
  "nbformat_minor": 0,
  "metadata": {
    "colab": {
      "provenance": []
    },
    "kernelspec": {
      "name": "python3",
      "display_name": "Python 3"
    },
    "language_info": {
      "name": "python"
    }
  },
  "cells": [
    {
      "cell_type": "code",
      "source": [
        "import tensorflow\n",
        "tensorflow.__version__"
      ],
      "metadata": {
        "colab": {
          "base_uri": "https://localhost:8080/",
          "height": 35
        },
        "id": "2dT6zvxRBnNy",
        "outputId": "9d870747-9892-41f1-bd29-75aeeeb50402"
      },
      "execution_count": null,
      "outputs": [
        {
          "output_type": "execute_result",
          "data": {
            "text/plain": [
              "'2.9.2'"
            ],
            "application/vnd.google.colaboratory.intrinsic+json": {
              "type": "string"
            }
          },
          "metadata": {},
          "execution_count": 19
        }
      ]
    },
    {
      "cell_type": "code",
      "execution_count": null,
      "metadata": {
        "id": "x9Kt2s7-olEX",
        "colab": {
          "base_uri": "https://localhost:8080/"
        },
        "outputId": "064e4bca-2afb-407a-b3aa-df2ad1add3c3"
      },
      "outputs": [
        {
          "output_type": "stream",
          "name": "stdout",
          "text": [
            "Looking in indexes: https://pypi.org/simple, https://us-python.pkg.dev/colab-wheels/public/simple/\n",
            "Requirement already satisfied: tensorflow==2.7 in /usr/local/lib/python3.7/dist-packages (2.7.0+zzzcolab20220506150900)\n",
            "Requirement already satisfied: protobuf>=3.9.2 in /usr/local/lib/python3.7/dist-packages (from tensorflow==2.7) (3.19.6)\n",
            "Requirement already satisfied: keras<2.8,>=2.7.0rc0 in /usr/local/lib/python3.7/dist-packages (from tensorflow==2.7) (2.7.0)\n",
            "Requirement already satisfied: numpy>=1.14.5 in /usr/local/lib/python3.7/dist-packages (from tensorflow==2.7) (1.21.6)\n",
            "Requirement already satisfied: tensorflow-io-gcs-filesystem>=0.21.0 in /usr/local/lib/python3.7/dist-packages (from tensorflow==2.7) (0.27.0)\n",
            "Requirement already satisfied: six>=1.12.0 in /usr/local/lib/python3.7/dist-packages (from tensorflow==2.7) (1.15.0)\n",
            "Requirement already satisfied: wrapt>=1.11.0 in /usr/local/lib/python3.7/dist-packages (from tensorflow==2.7) (1.14.1)\n",
            "Requirement already satisfied: tensorboard~=2.6 in /usr/local/lib/python3.7/dist-packages (from tensorflow==2.7) (2.9.1)\n",
            "Requirement already satisfied: flatbuffers<3.0,>=1.12 in /usr/local/lib/python3.7/dist-packages (from tensorflow==2.7) (1.12)\n",
            "Requirement already satisfied: termcolor>=1.1.0 in /usr/local/lib/python3.7/dist-packages (from tensorflow==2.7) (2.1.0)\n",
            "Requirement already satisfied: typing-extensions>=3.6.6 in /usr/local/lib/python3.7/dist-packages (from tensorflow==2.7) (4.1.1)\n",
            "Requirement already satisfied: tensorflow-estimator<2.8,~=2.7.0rc0 in /usr/local/lib/python3.7/dist-packages (from tensorflow==2.7) (2.7.0)\n",
            "Requirement already satisfied: gast<0.5.0,>=0.2.1 in /usr/local/lib/python3.7/dist-packages (from tensorflow==2.7) (0.4.0)\n",
            "Requirement already satisfied: keras-preprocessing>=1.1.1 in /usr/local/lib/python3.7/dist-packages (from tensorflow==2.7) (1.1.2)\n",
            "Requirement already satisfied: absl-py>=0.4.0 in /usr/local/lib/python3.7/dist-packages (from tensorflow==2.7) (1.3.0)\n",
            "Requirement already satisfied: grpcio<2.0,>=1.24.3 in /usr/local/lib/python3.7/dist-packages (from tensorflow==2.7) (1.50.0)\n",
            "Requirement already satisfied: libclang>=9.0.1 in /usr/local/lib/python3.7/dist-packages (from tensorflow==2.7) (14.0.6)\n",
            "Requirement already satisfied: google-pasta>=0.1.1 in /usr/local/lib/python3.7/dist-packages (from tensorflow==2.7) (0.2.0)\n",
            "Requirement already satisfied: wheel<1.0,>=0.32.0 in /usr/local/lib/python3.7/dist-packages (from tensorflow==2.7) (0.38.4)\n",
            "Requirement already satisfied: h5py>=2.9.0 in /usr/local/lib/python3.7/dist-packages (from tensorflow==2.7) (3.1.0)\n",
            "Requirement already satisfied: opt-einsum>=2.3.2 in /usr/local/lib/python3.7/dist-packages (from tensorflow==2.7) (3.3.0)\n",
            "Requirement already satisfied: astunparse>=1.6.0 in /usr/local/lib/python3.7/dist-packages (from tensorflow==2.7) (1.6.3)\n",
            "Requirement already satisfied: cached-property in /usr/local/lib/python3.7/dist-packages (from h5py>=2.9.0->tensorflow==2.7) (1.5.2)\n",
            "Requirement already satisfied: werkzeug>=1.0.1 in /usr/local/lib/python3.7/dist-packages (from tensorboard~=2.6->tensorflow==2.7) (1.0.1)\n",
            "Requirement already satisfied: markdown>=2.6.8 in /usr/local/lib/python3.7/dist-packages (from tensorboard~=2.6->tensorflow==2.7) (3.4.1)\n",
            "Requirement already satisfied: google-auth<3,>=1.6.3 in /usr/local/lib/python3.7/dist-packages (from tensorboard~=2.6->tensorflow==2.7) (2.14.1)\n",
            "Requirement already satisfied: google-auth-oauthlib<0.5,>=0.4.1 in /usr/local/lib/python3.7/dist-packages (from tensorboard~=2.6->tensorflow==2.7) (0.4.6)\n",
            "Requirement already satisfied: setuptools>=41.0.0 in /usr/local/lib/python3.7/dist-packages (from tensorboard~=2.6->tensorflow==2.7) (57.4.0)\n",
            "Requirement already satisfied: tensorboard-plugin-wit>=1.6.0 in /usr/local/lib/python3.7/dist-packages (from tensorboard~=2.6->tensorflow==2.7) (1.8.1)\n",
            "Requirement already satisfied: requests<3,>=2.21.0 in /usr/local/lib/python3.7/dist-packages (from tensorboard~=2.6->tensorflow==2.7) (2.23.0)\n",
            "Requirement already satisfied: tensorboard-data-server<0.7.0,>=0.6.0 in /usr/local/lib/python3.7/dist-packages (from tensorboard~=2.6->tensorflow==2.7) (0.6.1)\n",
            "Requirement already satisfied: cachetools<6.0,>=2.0.0 in /usr/local/lib/python3.7/dist-packages (from google-auth<3,>=1.6.3->tensorboard~=2.6->tensorflow==2.7) (5.2.0)\n",
            "Requirement already satisfied: rsa<5,>=3.1.4 in /usr/local/lib/python3.7/dist-packages (from google-auth<3,>=1.6.3->tensorboard~=2.6->tensorflow==2.7) (4.9)\n",
            "Requirement already satisfied: pyasn1-modules>=0.2.1 in /usr/local/lib/python3.7/dist-packages (from google-auth<3,>=1.6.3->tensorboard~=2.6->tensorflow==2.7) (0.2.8)\n",
            "Requirement already satisfied: requests-oauthlib>=0.7.0 in /usr/local/lib/python3.7/dist-packages (from google-auth-oauthlib<0.5,>=0.4.1->tensorboard~=2.6->tensorflow==2.7) (1.3.1)\n",
            "Requirement already satisfied: importlib-metadata>=4.4 in /usr/local/lib/python3.7/dist-packages (from markdown>=2.6.8->tensorboard~=2.6->tensorflow==2.7) (4.13.0)\n",
            "Requirement already satisfied: zipp>=0.5 in /usr/local/lib/python3.7/dist-packages (from importlib-metadata>=4.4->markdown>=2.6.8->tensorboard~=2.6->tensorflow==2.7) (3.10.0)\n",
            "Requirement already satisfied: pyasn1<0.5.0,>=0.4.6 in /usr/local/lib/python3.7/dist-packages (from pyasn1-modules>=0.2.1->google-auth<3,>=1.6.3->tensorboard~=2.6->tensorflow==2.7) (0.4.8)\n",
            "Requirement already satisfied: certifi>=2017.4.17 in /usr/local/lib/python3.7/dist-packages (from requests<3,>=2.21.0->tensorboard~=2.6->tensorflow==2.7) (2022.9.24)\n",
            "Requirement already satisfied: idna<3,>=2.5 in /usr/local/lib/python3.7/dist-packages (from requests<3,>=2.21.0->tensorboard~=2.6->tensorflow==2.7) (2.10)\n",
            "Requirement already satisfied: chardet<4,>=3.0.2 in /usr/local/lib/python3.7/dist-packages (from requests<3,>=2.21.0->tensorboard~=2.6->tensorflow==2.7) (3.0.4)\n",
            "Requirement already satisfied: urllib3!=1.25.0,!=1.25.1,<1.26,>=1.21.1 in /usr/local/lib/python3.7/dist-packages (from requests<3,>=2.21.0->tensorboard~=2.6->tensorflow==2.7) (1.24.3)\n",
            "Requirement already satisfied: oauthlib>=3.0.0 in /usr/local/lib/python3.7/dist-packages (from requests-oauthlib>=0.7.0->google-auth-oauthlib<0.5,>=0.4.1->tensorboard~=2.6->tensorflow==2.7) (3.2.2)\n"
          ]
        }
      ],
      "source": [
        "!pip install tensorflow==2.7\n",
        "import tensorflow as tf\n",
        "from tensorflow import keras\n",
        "from tensorflow.keras import layers\n",
        "from tensorflow.python.keras.models import Sequential\n",
        "from tensorflow.python.keras.layers import Conv2D, MaxPooling2D\n",
        "from tensorflow.python.keras.layers import Activation, Dropout, Flatten, Dense\n",
        "from keras.preprocessing import image\n",
        "from tensorflow.python.keras.preprocessing import image\n",
        "\n",
        "\n",
        "from tensorflow.python.keras.preprocessing.image import ImageDataGenerator\n"
      ]
    },
    {
      "cell_type": "code",
      "source": [
        "\n",
        "img_width, img_height = 150, 150\n",
        "input_shape = (img_width, img_height, 3)\n",
        "epochs = 30\n",
        "batch_size = 1\n",
        "nb_train_samples = 670\n",
        "nb_validation_samples = 20\n",
        "nb_test_samples = 20"
      ],
      "metadata": {
        "id": "2jakHl8I2UJa"
      },
      "execution_count": null,
      "outputs": []
    },
    {
      "cell_type": "code",
      "source": [
        "model = Sequential()\n",
        "model.add(Conv2D(32, (3, 3), input_shape=input_shape))\n",
        "model.add(Activation('relu'))\n",
        "model.add(MaxPooling2D(pool_size=(2, 2)))\n",
        "\n",
        "model.add(Conv2D(32, (3, 3)))\n",
        "model.add(Activation('relu'))\n",
        "model.add(MaxPooling2D(pool_size=(2, 2)))\n",
        "\n",
        "model.add(Conv2D(64, (3, 3)))\n",
        "model.add(Activation('relu'))\n",
        "model.add(MaxPooling2D(pool_size=(2, 2)))\n",
        "\n",
        "model.add(Flatten())\n",
        "model.add(Dense(64))\n",
        "model.add(Activation('relu'))\n",
        "model.add(Dropout(0.5))\n",
        "model.add(Dense(1))\n",
        "model.add(Activation('sigmoid'))"
      ],
      "metadata": {
        "id": "gkfGqzT22ULh"
      },
      "execution_count": null,
      "outputs": []
    },
    {
      "cell_type": "code",
      "source": [
        "model.compile(loss='binary_crossentropy',\n",
        "              optimizer='adam',\n",
        "              metrics=['accuracy'])"
      ],
      "metadata": {
        "id": "t44DVGmv2UNu"
      },
      "execution_count": null,
      "outputs": []
    },
    {
      "cell_type": "code",
      "source": [
        "datagen = ImageDataGenerator(rescale=1. / 255)\n"
      ],
      "metadata": {
        "id": "dU0d23K-2UPU"
      },
      "execution_count": null,
      "outputs": []
    },
    {
      "cell_type": "code",
      "source": [
        "train_generator = datagen.flow_from_directory(\n",
        "    'archive/train',\n",
        "    target_size=(img_width, img_height),\n",
        "    batch_size=batch_size,\n",
        "    class_mode='categorical')"
      ],
      "metadata": {
        "colab": {
          "base_uri": "https://localhost:8080/"
        },
        "id": "RWSgYet7AzMm",
        "outputId": "1da51b65-dd81-4320-d37e-2a70d8b540b5"
      },
      "execution_count": null,
      "outputs": [
        {
          "output_type": "stream",
          "name": "stdout",
          "text": [
            "Found 670 images belonging to 5 classes.\n"
          ]
        }
      ]
    },
    {
      "cell_type": "code",
      "source": [
        "val_generator = datagen.flow_from_directory(\n",
        "    'archive/valid',\n",
        "    target_size=(img_width, img_height),\n",
        "    batch_size=batch_size,\n",
        "    class_mode='categorical')"
      ],
      "metadata": {
        "colab": {
          "base_uri": "https://localhost:8080/"
        },
        "id": "BAUoacrCCf_d",
        "outputId": "22948bb7-9a50-4797-fe1c-3c826f972475"
      },
      "execution_count": null,
      "outputs": [
        {
          "output_type": "stream",
          "name": "stdout",
          "text": [
            "Found 20 images belonging to 5 classes.\n"
          ]
        }
      ]
    },
    {
      "cell_type": "code",
      "source": [
        "test_generator = datagen.flow_from_directory(\n",
        "    'archive/test',\n",
        "    target_size=(img_width, img_height),\n",
        "    batch_size=batch_size,\n",
        "    class_mode='categorical')"
      ],
      "metadata": {
        "colab": {
          "base_uri": "https://localhost:8080/"
        },
        "id": "bUOJSLvJIFI4",
        "outputId": "270f7086-1939-4a64-9423-30dc7cec7a0f"
      },
      "execution_count": null,
      "outputs": [
        {
          "output_type": "stream",
          "name": "stdout",
          "text": [
            "Found 20 images belonging to 5 classes.\n"
          ]
        }
      ]
    },
    {
      "cell_type": "code",
      "source": [
        "model.fit_generator(\n",
        "    train_generator,\n",
        "    # steps_per_epoch=nb_train_samples // batch_size,\n",
        "    epochs=epochs,\n",
        "    validation_data=val_generator,\n",
        "    # validation_steps=nb_validation_samples // batch_size\n",
        "    )"
      ],
      "metadata": {
        "colab": {
          "base_uri": "https://localhost:8080/"
        },
        "id": "pcD0CTvcJv7w",
        "outputId": "6352281b-1aa7-4ff6-8bf1-aa28e1a6e53a"
      },
      "execution_count": null,
      "outputs": [
        {
          "output_type": "stream",
          "name": "stdout",
          "text": [
            "Epoch 1/30\n",
            "42/42 [==============================] - 18s 439ms/step - loss: -260973328.0000 - accuracy: 0.1731 - val_loss: 313969856.0000 - val_accuracy: 0.2000\n",
            "Epoch 2/30\n",
            "42/42 [==============================] - 21s 494ms/step - loss: -2046689280.0000 - accuracy: 0.1731 - val_loss: 1936091392.0000 - val_accuracy: 0.2000\n",
            "Epoch 3/30\n",
            "42/42 [==============================] - 18s 432ms/step - loss: -8991300608.0000 - accuracy: 0.1731 - val_loss: 7545062400.0000 - val_accuracy: 0.2000\n",
            "Epoch 4/30\n",
            "42/42 [==============================] - 18s 432ms/step - loss: -30382274560.0000 - accuracy: 0.1731 - val_loss: 22892206080.0000 - val_accuracy: 0.2000\n",
            "Epoch 5/30\n",
            "42/42 [==============================] - 21s 492ms/step - loss: -84198588416.0000 - accuracy: 0.1731 - val_loss: 57819078656.0000 - val_accuracy: 0.2000\n",
            "Epoch 6/30\n",
            "42/42 [==============================] - 18s 432ms/step - loss: -190881349632.0000 - accuracy: 0.1731 - val_loss: 125441105920.0000 - val_accuracy: 0.2000\n",
            "Epoch 7/30\n",
            "42/42 [==============================] - 18s 432ms/step - loss: -388920541184.0000 - accuracy: 0.1731 - val_loss: 243728613376.0000 - val_accuracy: 0.2000\n",
            "Epoch 8/30\n",
            "42/42 [==============================] - 20s 466ms/step - loss: -735931990016.0000 - accuracy: 0.1731 - val_loss: 439863279616.0000 - val_accuracy: 0.2000\n",
            "Epoch 9/30\n",
            "42/42 [==============================] - 19s 442ms/step - loss: -1263703818240.0000 - accuracy: 0.1731 - val_loss: 741878398976.0000 - val_accuracy: 0.2000\n",
            "Epoch 10/30\n",
            "42/42 [==============================] - 18s 433ms/step - loss: -2100529856512.0000 - accuracy: 0.1731 - val_loss: 1196202000384.0000 - val_accuracy: 0.2000\n",
            "Epoch 11/30\n",
            "42/42 [==============================] - 18s 433ms/step - loss: -3223172939776.0000 - accuracy: 0.1731 - val_loss: 1836968050688.0000 - val_accuracy: 0.2000\n",
            "Epoch 12/30\n",
            "42/42 [==============================] - 23s 550ms/step - loss: -4887422697472.0000 - accuracy: 0.1731 - val_loss: 2718050811904.0000 - val_accuracy: 0.2000\n",
            "Epoch 13/30\n",
            "42/42 [==============================] - 18s 431ms/step - loss: -7151109537792.0000 - accuracy: 0.1731 - val_loss: 3916429787136.0000 - val_accuracy: 0.2000\n",
            "Epoch 14/30\n",
            "42/42 [==============================] - 18s 431ms/step - loss: -10258708692992.0000 - accuracy: 0.1731 - val_loss: 5501201940480.0000 - val_accuracy: 0.2000\n",
            "Epoch 15/30\n",
            "42/42 [==============================] - 21s 490ms/step - loss: -14210886008832.0000 - accuracy: 0.1731 - val_loss: 7527659995136.0000 - val_accuracy: 0.2000\n",
            "Epoch 16/30\n",
            "42/42 [==============================] - 18s 433ms/step - loss: -19079966490624.0000 - accuracy: 0.1731 - val_loss: 10076242837504.0000 - val_accuracy: 0.2000\n",
            "Epoch 17/30\n",
            "42/42 [==============================] - 19s 444ms/step - loss: -25461845393408.0000 - accuracy: 0.1731 - val_loss: 13273569165312.0000 - val_accuracy: 0.2000\n",
            "Epoch 18/30\n",
            "42/42 [==============================] - 19s 437ms/step - loss: -33871288598528.0000 - accuracy: 0.1731 - val_loss: 17218741993472.0000 - val_accuracy: 0.2000\n",
            "Epoch 19/30\n",
            "42/42 [==============================] - 22s 524ms/step - loss: -42623704236032.0000 - accuracy: 0.1731 - val_loss: 21937386422272.0000 - val_accuracy: 0.2000\n",
            "Epoch 20/30\n",
            "42/42 [==============================] - 21s 492ms/step - loss: -53792498253824.0000 - accuracy: 0.1731 - val_loss: 27603759005696.0000 - val_accuracy: 0.2000\n",
            "Epoch 21/30\n",
            "42/42 [==============================] - 18s 436ms/step - loss: -67794167136256.0000 - accuracy: 0.1731 - val_loss: 34328589369344.0000 - val_accuracy: 0.2000\n",
            "Epoch 22/30\n",
            "42/42 [==============================] - 20s 480ms/step - loss: -84645551013888.0000 - accuracy: 0.1731 - val_loss: 42337258438656.0000 - val_accuracy: 0.2000\n",
            "Epoch 23/30\n",
            "42/42 [==============================] - 21s 490ms/step - loss: -102954702995456.0000 - accuracy: 0.1731 - val_loss: 51652987977728.0000 - val_accuracy: 0.2000\n",
            "Epoch 24/30\n",
            "42/42 [==============================] - 21s 491ms/step - loss: -126588247080960.0000 - accuracy: 0.1731 - val_loss: 62504503869440.0000 - val_accuracy: 0.2000\n",
            "Epoch 25/30\n",
            "42/42 [==============================] - 18s 431ms/step - loss: -152812084264960.0000 - accuracy: 0.1731 - val_loss: 75050845732864.0000 - val_accuracy: 0.2000\n",
            "Epoch 26/30\n",
            "42/42 [==============================] - 18s 431ms/step - loss: -178241411219456.0000 - accuracy: 0.1731 - val_loss: 89125638111232.0000 - val_accuracy: 0.2000\n",
            "Epoch 27/30\n",
            "42/42 [==============================] - 20s 470ms/step - loss: -212515384459264.0000 - accuracy: 0.1731 - val_loss: 105095735803904.0000 - val_accuracy: 0.2000\n",
            "Epoch 28/30\n",
            "42/42 [==============================] - 18s 433ms/step - loss: -248964657971200.0000 - accuracy: 0.1731 - val_loss: 123107830398976.0000 - val_accuracy: 0.2000\n",
            "Epoch 29/30\n",
            "42/42 [==============================] - 18s 431ms/step - loss: -293538264776704.0000 - accuracy: 0.1731 - val_loss: 143599362637824.0000 - val_accuracy: 0.2000\n",
            "Epoch 30/30\n",
            "42/42 [==============================] - 21s 493ms/step - loss: -338873154535424.0000 - accuracy: 0.1731 - val_loss: 166704088875008.0000 - val_accuracy: 0.2000\n"
          ]
        },
        {
          "output_type": "execute_result",
          "data": {
            "text/plain": [
              "<tensorflow.python.keras.callbacks.History at 0x7fb809c52090>"
            ]
          },
          "metadata": {},
          "execution_count": 35
        }
      ]
    },
    {
      "cell_type": "code",
      "source": [
        "scores = model.evaluate_generator(test_generator, nb_test_samples // batch_size)\n"
      ],
      "metadata": {
        "colab": {
          "base_uri": "https://localhost:8080/"
        },
        "id": "dsjryxmSVlIO",
        "outputId": "e49eac77-0411-44c0-af1c-48825fac7c8f"
      },
      "execution_count": null,
      "outputs": [
        {
          "output_type": "stream",
          "name": "stderr",
          "text": [
            "/usr/local/lib/python3.7/dist-packages/tensorflow/python/keras/engine/training.py:1996: UserWarning: `Model.evaluate_generator` is deprecated and will be removed in a future version. Please use `Model.evaluate`, which supports generators.\n",
            "  warnings.warn('`Model.evaluate_generator` is deprecated and '\n",
            "WARNING:tensorflow:Your input ran out of data; interrupting training. Make sure that your dataset or generator can generate at least `steps_per_epoch * epochs` batches (in this case, 234 batches). You may need to use the repeat() function when building your dataset.\n"
          ]
        }
      ]
    },
    {
      "cell_type": "code",
      "source": [
        "scores"
      ],
      "metadata": {
        "colab": {
          "base_uri": "https://localhost:8080/"
        },
        "id": "NFvUp0mAVlLY",
        "outputId": "1cf63f93-d88e-4e2b-f4ba-13663bf735eb"
      },
      "execution_count": null,
      "outputs": [
        {
          "output_type": "execute_result",
          "data": {
            "text/plain": [
              "[167752312553472.0, 0.20000000298023224]"
            ]
          },
          "metadata": {},
          "execution_count": 38
        }
      ]
    }
  ]
}